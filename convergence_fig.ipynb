{
 "cells": [
  {
   "cell_type": "code",
   "execution_count": 31,
   "metadata": {},
   "outputs": [
    {
     "data": {
      "text/plain": [
       "'3.5.2 (default, Oct  8 2019, 13:06:37) \\n[GCC 5.4.0 20160609]'"
      ]
     },
     "execution_count": 31,
     "metadata": {},
     "output_type": "execute_result"
    }
   ],
   "source": [
    "import numpy as np\n",
    "from matplotlib import pyplot as plt\n",
    "from py import opt, read\n",
    "from hypergraph import hypergraph\n",
    "from py.utils import *\n",
    "import pathlib\n",
    "import networkx as nx\n",
    "from scipy.optimize import root, approx_fprime\n",
    "from cProfile import run\n",
    "\n",
    "from scipy.linalg import eig\n",
    "\n",
    "from scipy.stats import zipf\n",
    "%matplotlib inline\n",
    "\n",
    "import sys\n",
    "sys.version"
   ]
  },
  {
   "cell_type": "code",
   "execution_count": 16,
   "metadata": {},
   "outputs": [
    {
     "name": "stdout",
     "output_type": "stream",
     "text": [
      "123 degeneracies removed, 0 remain.\n"
     ]
    },
    {
     "data": {
      "text/plain": [
       "Text(0.5, 1.0, 'Degree Sequence')"
      ]
     },
     "execution_count": 16,
     "metadata": {},
     "output_type": "execute_result"
    },
    {
     "data": {
      "image/png": "[encoded data removed]",
      "text/plain": [
       "<Figure size 432x288 with 1 Axes>"
      ]
     },
     "metadata": {
      "needs_background": "light"
     },
     "output_type": "display_data"
    }
   ],
   "source": [
    "# construct a degree sequence\n",
    "\n",
    "n = 100  # number of nodes\n",
    "\n",
    "deg = (np.random.rand(n))**4\n",
    "deg += np.random.randint(1, n, n)\n",
    "deg = deg / 2\n",
    "deg = deg.astype(int) + 1\n",
    "deg = deg * 2\n",
    "deg[9:10] = 1000\n",
    "\n",
    "\n",
    "deg[80] = 200\n",
    "\n",
    "# use nx.configuration model to make a multigraph, then represent as hypergraph\n",
    "g = nx.configuration_model(deg)\n",
    "e = list(g.edges())\n",
    "\n",
    "G = hypergraph.hypergraph(e)\n",
    "G.remove_degeneracy()        # remove self-loops\n",
    "d = G.node_degrees()\n",
    "d = np.sort(d)\n",
    "n = len(d)\n",
    "\n",
    "\n",
    "plt.scatter(np.arange(n), np.sort(d))\n",
    "plt.title('Degree Sequence')"
   ]
  },
  {
   "cell_type": "code",
   "execution_count": 17,
   "metadata": {},
   "outputs": [],
   "source": [
    "# use copies of a star graph\n",
    "k_copies = 10\n",
    "\n",
    "j_leaves = 100\n",
    "\n",
    "d = np.repeat(np.concatenate(([j_leaves], np.repeat(1, j_leaves))), k_copies)\n",
    "n = len(d)"
   ]
  },
  {
   "cell_type": "code",
   "execution_count": 18,
   "metadata": {},
   "outputs": [],
   "source": [
    "np.random.seed(seed=12345)\n",
    "\n",
    "# zipf-distributed\n",
    "\n",
    "n = 200\n",
    "\n",
    "d1 = zipf.rvs(a = 2, size=n)\n",
    "d1 = 2*d1\n",
    "d1 = np.sort(d1)"
   ]
  },
  {
   "cell_type": "code",
   "execution_count": 19,
   "metadata": {},
   "outputs": [],
   "source": [
    "np.random.seed(seed=12345)\n",
    "\n",
    "# zipf-distributed\n",
    "\n",
    "n = 200\n",
    "\n",
    "d2 = np.random.randint(n/4, size = n) + 1\n",
    "# d2 = (d2/50) ** 4\n",
    "d2 = 2*d2\n",
    "d2 = np.sort(d2)"
   ]
  },
  {
   "cell_type": "code",
   "execution_count": 20,
   "metadata": {},
   "outputs": [
    {
     "data": {
      "text/plain": [
       "<matplotlib.collections.PathCollection at 0x7f1205bbc198>"
      ]
     },
     "execution_count": 20,
     "metadata": {},
     "output_type": "execute_result"
    },
    {
     "data": {
      "image/png": "[encoded data removed]",
      "text/plain": [
       "<Figure size 432x288 with 1 Axes>"
      ]
     },
     "metadata": {
      "needs_background": "light"
     },
     "output_type": "display_data"
    }
   ],
   "source": [
    "plt.scatter(np.arange(n), d1)\n",
    "plt.scatter(np.arange(n), d2)"
   ]
  },
  {
   "cell_type": "code",
   "execution_count": 21,
   "metadata": {},
   "outputs": [
    {
     "name": "stdout",
     "output_type": "stream",
     "text": [
      "Warning: convergence within tolerance 0.01 not reached within 5 steps. MSE = 187.64266528174548\n",
      "Warning: convergence within tolerance 0.01 not reached within 5 steps. MSE = 174.9748106342188\n",
      "Warning: convergence within tolerance 0.01 not reached within 5 steps. MSE = 98.15518280284968\n",
      "Warning: convergence within tolerance 0.01 not reached within 5 steps. MSE = 56.44898627150465\n",
      "Warning: convergence within tolerance 0.01 not reached within 5 steps. MSE = 32.7253538055625\n",
      "Warning: convergence within tolerance 0.01 not reached within 5 steps. MSE = 19.045385451380763\n",
      "Warning: convergence within tolerance 0.01 not reached within 5 steps. MSE = 11.11967387074362\n",
      "Warning: convergence within tolerance 0.01 not reached within 5 steps. MSE = 6.528907160707158\n",
      "Warning: convergence within tolerance 0.01 not reached within 5 steps. MSE = 3.8583944832352888\n",
      "Warning: convergence within tolerance 0.01 not reached within 5 steps. MSE = 2.298517571688558\n",
      "Warning: convergence within tolerance 0.01 not reached within 5 steps. MSE = 1.3794981676017974\n",
      "Warning: convergence within tolerance 0.01 not reached within 5 steps. MSE = 0.8373588188985275\n",
      "Warning: convergence within tolerance 0.01 not reached within 5 steps. MSE = 0.5152500507344159\n",
      "Warning: convergence within tolerance 0.01 not reached within 5 steps. MSE = 0.3225022147734586\n",
      "Warning: convergence within tolerance 0.01 not reached within 5 steps. MSE = 0.2073105664318304\n",
      "Warning: convergence within tolerance 0.01 not reached within 5 steps. MSE = 0.13695996786284015\n",
      "Warning: convergence within tolerance 0.01 not reached within 5 steps. MSE = 0.09479588863378803\n",
      "Warning: convergence within tolerance 0.01 not reached within 5 steps. MSE = 0.06887218753825422\n",
      "Warning: convergence within tolerance 0.01 not reached within 5 steps. MSE = 0.053002008255073375\n",
      "Warning: convergence within tolerance 0.01 not reached within 5 steps. MSE = 0.04285564872752534\n",
      "Successfully converged within tolerance 0.01 in 3 steps.\n",
      "Successfully converged within tolerance 0.01 in 1 steps.\n",
      "Successfully converged within tolerance 0.01 in 1 steps.\n",
      "Successfully converged within tolerance 0.01 in 1 steps.\n",
      "Successfully converged within tolerance 0.01 in 1 steps.\n",
      "Successfully converged within tolerance 0.01 in 1 steps.\n",
      "Successfully converged within tolerance 0.01 in 1 steps.\n",
      "Successfully converged within tolerance 0.01 in 1 steps.\n",
      "Successfully converged within tolerance 0.01 in 1 steps.\n",
      "Successfully converged within tolerance 0.01 in 1 steps.\n",
      "Successfully converged within tolerance 0.01 in 1 steps.\n",
      "Successfully converged within tolerance 0.01 in 1 steps.\n",
      "Successfully converged within tolerance 0.01 in 1 steps.\n",
      "Successfully converged within tolerance 0.01 in 1 steps.\n",
      "Successfully converged within tolerance 0.01 in 1 steps.\n",
      "Successfully converged within tolerance 0.01 in 1 steps.\n",
      "Successfully converged within tolerance 0.01 in 1 steps.\n",
      "Successfully converged within tolerance 0.01 in 1 steps.\n",
      "Successfully converged within tolerance 0.01 in 1 steps.\n",
      "Successfully converged within tolerance 0.01 in 1 steps.\n"
     ]
    },
    {
     "data": {
      "image/png": "[encoded data removed]",
      "text/plain": [
       "<Figure size 648x180 with 3 Axes>"
      ]
     },
     "metadata": {
      "needs_background": "light"
     },
     "output_type": "display_data"
    }
   ],
   "source": [
    "fig = plt.figure(figsize = (9, 2.5))\n",
    "ax1 = fig.add_subplot(131)\n",
    "ax2 = fig.add_subplot(133)\n",
    "ax3 = fig.add_subplot(132)\n",
    "\n",
    "\n",
    "\n",
    "b1 = np.ones(n)\n",
    "\n",
    "obj = opt.mse(b1, d1)\n",
    "\n",
    "\n",
    "color = 'grey'\n",
    "alpha = .4\n",
    "size = 1\n",
    "\n",
    "ax2.plot(d1, b1, color = color, linewidth = size, alpha = alpha)\n",
    "\n",
    "steps = 20\n",
    "interval = 5\n",
    "\n",
    "v1 = np.zeros(steps+1)\n",
    "v2 = np.zeros(steps+1)\n",
    "\n",
    "v1[0] = obj\n",
    "\n",
    "for i in range(steps):\n",
    "    b1, obj = opt.compute_b(d1, alpha = 0.05, \n",
    "                           message_every = 100, \n",
    "                           b0 = b1, \n",
    "                           max_steps = interval, \n",
    "                           tol = .01)\n",
    "    v1[i+1] = obj\n",
    "    if i == steps - 1:\n",
    "        color = 'darkslategrey'\n",
    "        alpha = 1\n",
    "        size = 2\n",
    "    \n",
    "    ax2.plot(d1, b1, color = color, linewidth = size, alpha = alpha)\n",
    "    \n",
    "#     ax1.scatter([i], [obj], edgecolor = 'darkslategrey', color = 'white')\n",
    "    ax1.semilogy()\n",
    "    \n",
    "b2 = np.ones(n)\n",
    "\n",
    "\n",
    "obj = opt.mse(b2, d2)\n",
    "\n",
    "color = 'grey'\n",
    "alpha = .4\n",
    "size = 1\n",
    "\n",
    "ax3.plot(d2, b2, color = color, linewidth = size, alpha = alpha)\n",
    "\n",
    "v2[0] = obj\n",
    "\n",
    "for i in range(steps):\n",
    "    b2, obj = opt.compute_b(d2, alpha = 0.2, \n",
    "                           message_every = 100, \n",
    "                           b0 = b2, \n",
    "                           max_steps = interval, \n",
    "                           tol = .01)\n",
    "    v2[i+1] = obj\n",
    "    if i == steps - 1:\n",
    "        color = 'firebrick'\n",
    "        alpha = 1\n",
    "        size = 2\n",
    "    \n",
    "    ax3.plot(d2, b2, color = color, linewidth = size, alpha = alpha)\n",
    "        \n",
    "        \n",
    "ax1.plot(np.arange(steps+1), v1, color = 'darkslategrey', zorder = 1)\n",
    "ax1.scatter(np.arange(steps+1), v1, facecolors = 'white', edgecolors = 'darkslategrey', zorder = 2)\n",
    "ax1.plot(np.arange(steps+1), v2, color = 'firebrick', zorder = 1)\n",
    "ax1.scatter(np.arange(steps+1), v2, facecolors = 'white', edgecolors = 'firebrick', zorder = 2)\n",
    "\n",
    "\n",
    "ax1.set(xlabel = 'Iteration Number',\n",
    "        ylabel = 'MSE', \n",
    "        title = '(a)')\n",
    "\n",
    "ax2.set(xlabel = r'$d$ (Zipf)',\n",
    "        ylabel = r'$\\hat{\\beta}$',\n",
    "        title = '(c)')\n",
    "\n",
    "ax3.set(xlabel = r'$d$ (Uniform)',\n",
    "        ylabel = r'$\\hat{\\beta}$',\n",
    "        title = '(b)')\n",
    "\n",
    "for ax in [ax1, ax2, ax3]:\n",
    "    ax.spines['right'].set_visible(False)\n",
    "    ax.spines['top'].set_visible(False)\n",
    "\n",
    "plt.tight_layout()\n",
    "\n",
    "plt.savefig('fig/convergence.png', dpi = 300)"
   ]
  },
  {
   "cell_type": "code",
   "execution_count": 22,
   "metadata": {},
   "outputs": [
    {
     "name": "stdout",
     "output_type": "stream",
     "text": [
      "370.2212965727941\n",
      "562.4387503514677\n",
      "561.3022180988338\n",
      "13.908207606674647\n",
      "198.83249385385716\n",
      "1.0480667192045e-19\n",
      "1.0480667192045e-19 -- infeasible\n",
      "1.1873907050890562e-21\n",
      "1.1873907050890562e-21 -- infeasible\n",
      "162.98414676257966\n",
      "397.59016561960146\n",
      "999.0725985607183\n",
      "159.09390958774367\n",
      "584.5452864827089\n",
      "8.810036552600617e-16\n",
      "8.810036552600617e-16 -- infeasible\n",
      "0.2809283619254668\n",
      "4.276426022125482e-17\n",
      "4.276426022125482e-17 -- infeasible\n",
      "699.5149547229468\n",
      "111.82747553417798\n",
      "2.1679816628646706e-17\n",
      "2.1679816628646706e-17 -- infeasible\n",
      "3.2131944970550707e-14\n",
      "3.2131944970550707e-14 -- infeasible\n",
      "770.3705086709988\n"
     ]
    },
    {
     "data": {
      "text/plain": [
       "[<matplotlib.lines.Line2D at 0x7f1202f8acc0>]"
      ]
     },
     "execution_count": 22,
     "metadata": {},
     "output_type": "execute_result"
    },
    {
     "data": {
      "image/png": "[encoded data removed]",
      "text/plain": [
       "<Figure size 432x288 with 1 Axes>"
      ]
     },
     "metadata": {
      "needs_background": "light"
     },
     "output_type": "display_data"
    }
   ],
   "source": [
    "n_feasible = 0\n",
    "\n",
    "for i in range(20):\n",
    "    b_ = root(lambda b: opt.degree_estimate(b) - d1, x0 = np.random.rand(n))['x']\n",
    "\n",
    "    obj = opt.mse(b_, d1)\n",
    "    print(obj)\n",
    "    if obj < 0.01:\n",
    "        if opt.check_feasible(b_):\n",
    "            color = 'black'\n",
    "            alpha = 1\n",
    "            n_feasible += 1\n",
    "            print(str(obj) + str(' -- feasible'))\n",
    "        else:\n",
    "            color = 'grey'\n",
    "            alpha = .2\n",
    "            print(str(obj) + str(' -- infeasible'))\n",
    "        plt.plot(d1, b_, color = color, alpha = alpha)\n",
    "plt.gca().set(ylim = (0, 100))\n",
    "    \n",
    "b_ = root(lambda b: opt.degree_estimate(b) - d1, x0 = b1)['x']\n",
    "plt.plot(d1, b_, color = 'black', alpha = 1)"
   ]
  },
  {
   "cell_type": "code",
   "execution_count": 24,
   "metadata": {},
   "outputs": [],
   "source": [
    "def star_graph_sequence(k_copies = 1, j_leaves = 2):\n",
    "\n",
    "    d = np.repeat(np.concatenate(([j_leaves], np.repeat(1, j_leaves))), k_copies)\n",
    "    return(d)"
   ]
  },
  {
   "cell_type": "code",
   "execution_count": 21,
   "metadata": {},
   "outputs": [],
   "source": [
    "# b_ = root(lambda b: opt.degree_estimate(b) - d, x0 = np.random.rand(n))['x']\n",
    "\n",
    "M = np.zeros((5,5))\n",
    "\n",
    "for i in range(1, 6):\n",
    "    for j in range(1, 6):\n",
    "        d = star_graph_sequence(i+1, j)\n",
    "        n = len(d)\n",
    "\n",
    "#         b_, obj = opt.compute_b(d, message_every = 10000, alpha = .001, max_steps = 10**3)\n",
    "        b_ = -1\n",
    "        obj = 2\n",
    "        while np.min(b_) < .5:\n",
    "            b_ = root(lambda b: opt.degree_estimate(b) - d, x0 = np.ones(n))['x']\n",
    "            obj = opt.mse(b_, d)\n",
    "        M[i-1,j-1] = np.min(b_)\n",
    "#         M[i-1,j-1] = obj"
   ]
  },
  {
   "cell_type": "code",
   "execution_count": 33,
   "metadata": {},
   "outputs": [
    {
     "data": {
      "text/plain": [
       "([<matplotlib.axis.YTick at 0x7fb39b086940>,\n",
       "  <matplotlib.axis.YTick at 0x7fb39b086278>,\n",
       "  <matplotlib.axis.YTick at 0x7fb39b07ae48>,\n",
       "  <matplotlib.axis.YTick at 0x7fb39b0a1588>,\n",
       "  <matplotlib.axis.YTick at 0x7fb39b0a1a58>],\n",
       " <a list of 5 Text yticklabel objects>)"
      ]
     },
     "execution_count": 33,
     "metadata": {},
     "output_type": "execute_result"
    },
    {
     "data": {
      "image/png": "[encoded data removed]",
      "text/plain": [
       "<Figure size 432x288 with 2 Axes>"
      ]
     },
     "metadata": {
      "needs_background": "light"
     },
     "output_type": "display_data"
    }
   ],
   "source": [
    "fig = plt.figure()\n",
    "ax = fig.add_subplot(111)\n",
    "im = ax.imshow(M, cmap = 'inferno')\n",
    "plt.colorbar(im)\n",
    "\n",
    "ax.set(xlabel = 'Leaves', ylabel = 'Copies')\n",
    "\n",
    "plt.xticks(np.arange(5), 1 + np.arange(5))\n",
    "plt.yticks(np.arange(5), 2 + np.arange(5))"
   ]
  },
  {
   "cell_type": "markdown",
   "metadata": {},
   "source": [
    "# Numerical Jacobian Matrix"
   ]
  },
  {
   "cell_type": "code",
   "execution_count": 167,
   "metadata": {},
   "outputs": [],
   "source": [
    "def numerical_jacobian(b):\n",
    "    n = len(b)\n",
    "    J = np.zeros((n,n))\n",
    "    for i in range(n):\n",
    "        J[i] = approx_fprime(b, \n",
    "                             f = lambda b: opt.W_from_b(b).sum(axis = 1)[i], \n",
    "                             epsilon = 1)\n",
    "\n",
    "    return(J)"
   ]
  },
  {
   "cell_type": "code",
   "execution_count": 171,
   "metadata": {},
   "outputs": [
    {
     "name": "stdout",
     "output_type": "stream",
     "text": [
      "positive definite\n"
     ]
    }
   ],
   "source": [
    "test_b = (np.random.rand(n) + 1)**6\n",
    "# test_b = np.ones(n)\n",
    "if opt.check_feasible(test_b):\n",
    "    J = numerical_jacobian(test_b)\n",
    "    vals = eig(J)[0]\n",
    "    if np.all(vals > 0):\n",
    "        print('positive definite')"
   ]
  },
  {
   "cell_type": "code",
   "execution_count": 180,
   "metadata": {},
   "outputs": [],
   "source": [
    "K = J.copy()\n",
    "np.fill_diagonal(K, 0)\n",
    "off = np.abs(K).sum(axis = 1)"
   ]
  },
  {
   "cell_type": "code",
   "execution_count": 181,
   "metadata": {},
   "outputs": [
    {
     "data": {
      "text/plain": [
       "array([ 2.48607039e-01,  1.04936639e+00,  1.05833058e+00,  1.07632149e+00,\n",
       "        1.05554566e+00,  1.08938599e+00,  1.18815116e+00,  1.12344177e+00,\n",
       "        1.07399450e+00,  1.05779507e+00,  1.04455207e+00,  1.08258312e+00,\n",
       "        1.03918916e+00, -1.43339000e+01,  1.13510242e+00,  1.06463907e+00,\n",
       "        1.03330678e+00,  1.15438948e+00,  8.03700032e-01,  1.10635322e+00,\n",
       "       -1.15053037e+01,  5.05320246e-01,  7.07131666e-01,  1.18552149e+00,\n",
       "        1.09276489e+00,  1.18772157e+00,  1.03398591e+00,  1.06386894e+00,\n",
       "       -5.33672082e+00,  1.04136816e+00,  1.17128943e+00, -1.05511673e+00,\n",
       "        1.12763915e+00,  1.14634507e+00,  1.07980774e+00,  4.04953017e-01,\n",
       "        9.60360194e-01,  1.18803376e+00,  1.04426768e+00, -1.76386274e+00,\n",
       "        1.11765423e+00,  1.18231645e+00,  1.04050767e+00,  1.06018385e+00,\n",
       "        1.05227791e+00,  1.18710283e+00,  1.03912723e+00,  1.18597569e+00,\n",
       "       -2.47044601e-01,  2.72811783e-01,  1.16920515e+00,  1.09836332e+00,\n",
       "        1.08744922e+00,  1.01112877e+00,  1.09143665e+00,  1.03998963e+00,\n",
       "        1.07213524e+00,  1.18050134e+00,  1.18680176e+00,  1.11241387e+00,\n",
       "       -2.11583143e+00,  1.02876462e+00,  2.51904265e-01,  9.78062576e-01,\n",
       "        1.05403428e+00,  1.10937081e+00,  1.18518378e+00,  1.17961275e+00,\n",
       "        1.15175239e+00,  1.07149764e+00,  1.03268681e+00,  1.12489885e+00,\n",
       "        1.16501511e+00,  1.03770717e+00,  1.04616687e+00,  1.06748497e+00,\n",
       "        1.18642101e+00,  1.05532954e+00,  1.03067787e+00,  7.37372226e-01,\n",
       "        9.69782729e-01,  1.06763681e+00,  1.08998074e+00,  1.04314171e+00,\n",
       "       -2.57058803e+01,  1.18828385e+00,  1.17473416e+00,  1.04435159e+00,\n",
       "       -1.77430896e+00, -3.73368526e+01,  1.13515404e+00,  1.18825906e+00,\n",
       "        1.11947670e+00,  9.57332997e-01,  1.15927770e+00, -1.46951512e-01,\n",
       "        1.09675239e+00,  1.12640125e+00,  9.79722346e-01,  1.17375189e+00,\n",
       "        1.12188618e+00, -3.90308344e+00, -1.59333904e+01,  1.17557305e+00,\n",
       "        1.02964239e+00,  1.18813505e+00,  1.13198658e+00,  4.62787884e-01,\n",
       "        1.07322480e+00,  1.17883164e+00,  1.02793978e+00, -6.22790514e+00,\n",
       "       -3.90913624e+00,  1.06936425e+00,  1.07706244e+00,  2.39835585e-02,\n",
       "       -6.85310339e-01,  1.06350078e+00, -1.80238893e+00,  1.18643028e+00,\n",
       "        1.18828730e+00,  3.23202760e-01, -1.71702261e+00,  1.18677378e+00,\n",
       "        1.07825995e+00,  1.10515601e+00,  1.18809654e+00, -4.70833331e-01,\n",
       "       -9.46767330e+00,  1.04780382e+00,  1.03719798e+00, -3.96821608e+01,\n",
       "       -1.58233511e-01,  1.04184606e+00,  1.06610465e+00,  1.03072216e+00,\n",
       "        1.03057471e+00,  1.12567912e+00,  1.16590710e+00,  1.13799047e+00,\n",
       "        1.18105543e+00, -1.08146632e+02,  1.05863715e+00, -2.08823641e+01,\n",
       "        1.05681302e+00,  1.16593599e+00,  1.05143817e+00,  1.12139014e+00,\n",
       "        1.18807635e+00,  1.08728693e+00,  1.18084886e+00,  1.05837494e+00,\n",
       "        1.18147490e+00,  1.18083556e+00, -6.57724869e-01, -1.38519974e+00,\n",
       "        1.18104988e+00,  1.08895083e+00,  1.05057876e+00,  8.15736552e-01,\n",
       "       -1.88957412e+00,  1.13789097e+00, -8.21026581e+00,  1.15392935e+00,\n",
       "        1.17453847e+00,  1.06969095e+00, -1.02176961e+01, -1.63338112e+01,\n",
       "        1.13651478e+00,  1.07488108e+00, -3.57277387e+00,  1.04914921e+00,\n",
       "       -8.74599010e+00, -2.78599899e+01,  1.09741167e+00, -1.56447396e+02,\n",
       "        1.06094360e+00, -2.92606255e+01, -2.73370508e+00, -1.23329043e+01,\n",
       "        1.05544162e+00,  1.03169473e+00,  8.08839490e-01,  1.11007654e+00,\n",
       "        1.07542516e+00,  1.03509922e+00,  1.15554875e+00,  1.16505151e+00,\n",
       "       -5.63075438e+01,  1.06902852e+00,  1.03192375e+00,  1.07534753e+00,\n",
       "        1.03571588e+00,  1.07579617e+00,  1.11384965e+00,  1.17300037e+00,\n",
       "        1.16937279e+00,  1.17892599e+00,  1.08206762e+00,  5.62583541e-01])"
      ]
     },
     "execution_count": 181,
     "metadata": {},
     "output_type": "execute_result"
    }
   ],
   "source": [
    "np.abs(np.diag(J)) - off"
   ]
  },
  {
   "cell_type": "code",
   "execution_count": 173,
   "metadata": {},
   "outputs": [
    {
     "data": {
      "text/plain": [
       "array([155.21628775+0.j,  39.22408892+0.j,  28.80927752+0.j,\n",
       "        23.19982379+0.j,  21.39924704+0.j,  17.85870543+0.j,\n",
       "        16.8032008 +0.j,  15.79254384+0.j,  13.59360867+0.j,\n",
       "        11.55748932+0.j,  11.20274694+0.j,  10.49362053+0.j,\n",
       "         9.55866038+0.j,   9.1412051 +0.j,   8.52891549+0.j,\n",
       "         8.15764732+0.j,   7.80340154+0.j,   7.53440154+0.j,\n",
       "         6.54936281+0.j,   6.09036845+0.j,   5.34910752+0.j,\n",
       "         5.31732117+0.j,   5.14815008+0.j,   4.67476634+0.j,\n",
       "         4.31170467+0.j,   4.1758024 +0.j,   4.12334789+0.j,\n",
       "         4.06713554+0.j,   4.10413483+0.j,   4.09482415+0.j,\n",
       "         3.86084456+0.j,   3.64905258+0.j,   3.40320756+0.j,\n",
       "         3.38420788+0.j,   3.2544169 +0.j,   3.09358755+0.j,\n",
       "         3.02785432+0.j,   3.01941165+0.j,   2.88889404+0.j,\n",
       "         2.70837747+0.j,   2.70514907+0.j,   2.68768428+0.j,\n",
       "         2.64482442+0.j,   2.57353874+0.j,   2.52162344+0.j,\n",
       "         2.48253127+0.j,   2.42863133+0.j,   2.28430992+0.j,\n",
       "         2.25213719+0.j,   2.16462069+0.j,   2.17934201+0.j,\n",
       "         2.17306619+0.j,   1.98840522+0.j,   1.98363312+0.j,\n",
       "         1.97055149+0.j,   1.95517859+0.j,   1.95923248+0.j,\n",
       "         1.90947537+0.j,   1.87889063+0.j,   1.84592396+0.j,\n",
       "         1.83718759+0.j,   1.82879022+0.j,   1.81320271+0.j,\n",
       "         1.80037098+0.j,   1.80556016+0.j,   1.74244597+0.j,\n",
       "         1.73307895+0.j,   1.67251232+0.j,   1.70096406+0.j,\n",
       "         1.70647314+0.j,   1.64203584+0.j,   1.61925997+0.j,\n",
       "         1.58130318+0.j,   1.54511628+0.j,   1.53613865+0.j,\n",
       "         1.5018685 +0.j,   1.50526328+0.j,   1.50704447+0.j,\n",
       "         1.46961609+0.j,   1.46451204+0.j,   1.45427223+0.j,\n",
       "         1.44958941+0.j,   1.43828165+0.j,   1.43014754+0.j,\n",
       "         1.42796182+0.j,   1.41070368+0.j,   1.40943339+0.j,\n",
       "         1.40635309+0.j,   1.39659337+0.j,   1.3993441 +0.j,\n",
       "         1.40047508+0.j,   1.3716683 +0.j,   1.36616642+0.j,\n",
       "         1.35398403+0.j,   1.36780394+0.j,   1.33201633+0.j,\n",
       "         1.32426747+0.j,   1.32277201+0.j,   1.32060182+0.j,\n",
       "         1.31578967+0.j,   1.31085773+0.j,   1.31246317+0.j,\n",
       "         1.21890786+0.j,   1.22567387+0.j,   1.22882692+0.j,\n",
       "         1.23907153+0.j,   1.29122433+0.j,   1.29255362+0.j,\n",
       "         1.28502389+0.j,   1.27834061+0.j,   1.27030599+0.j,\n",
       "         1.27152508+0.j,   1.25618874+0.j,   1.25899292+0.j,\n",
       "         1.25986927+0.j,   1.17510852+0.j,   1.18145356+0.j,\n",
       "         1.1842798 +0.j,   1.18756607+0.j,   1.18705146+0.j,\n",
       "         1.1560491 +0.j,   1.16672669+0.j,   1.16150216+0.j,\n",
       "         1.16439127+0.j,   1.16300529+0.j,   1.15175545+0.j,\n",
       "         1.14854998+0.j,   1.14205287+0.j,   1.13962539+0.j,\n",
       "         1.13575725+0.j,   1.12973662+0.j,   1.02858413+0.j,\n",
       "         1.02946874+0.j,   1.03041318+0.j,   1.11734339+0.j,\n",
       "         1.11590075+0.j,   1.11488741+0.j,   1.1090134 +0.j,\n",
       "         1.10707796+0.j,   1.10498558+0.j,   1.10412653+0.j,\n",
       "         1.10347979+0.j,   1.10108435+0.j,   1.101391  +0.j,\n",
       "         1.09458099+0.j,   1.09385633+0.j,   1.0907836 +0.j,\n",
       "         1.08869622+0.j,   1.03153047+0.j,   1.03158036+0.j,\n",
       "         1.03263384+0.j,   1.03288318+0.j,   1.033714  +0.j,\n",
       "         1.03439106+0.j,   1.03513462+0.j,   1.03635768+0.j,\n",
       "         1.03703773+0.j,   1.03867828+0.j,   1.03924467+0.j,\n",
       "         1.08709422+0.j,   1.08610668+0.j,   1.08540725+0.j,\n",
       "         1.08490459+0.j,   1.08301515+0.j,   1.08059304+0.j,\n",
       "         1.07975805+0.j,   1.08418135+0.j,   1.05071781+0.j,\n",
       "         1.04882487+0.j,   1.05496945+0.j,   1.07700268+0.j,\n",
       "         1.07743595+0.j,   1.07285906+0.j,   1.06642498+0.j,\n",
       "         1.07459531+0.j,   1.06958653+0.j,   1.07101797+0.j,\n",
       "         1.05596253+0.j,   1.05228212+0.j,   1.04535972+0.j,\n",
       "         1.04388993+0.j,   1.04237901+0.j,   1.04082652+0.j,\n",
       "         1.04090108+0.j,   1.05254031+0.j,   1.05804838+0.j,\n",
       "         1.0417962 +0.j,   1.04334895+0.j,   1.06138441+0.j,\n",
       "         1.07481528+0.j,   1.07005467+0.j,   1.04663979+0.j,\n",
       "         1.04697222+0.j,   1.04674298+0.j,   1.05959087+0.j,\n",
       "         1.05974108+0.j,   1.06257122+0.j,   1.06360735+0.j,\n",
       "         1.06320632+0.j,   1.06329851+0.j])"
      ]
     },
     "execution_count": 173,
     "metadata": {},
     "output_type": "execute_result"
    }
   ],
   "source": [
    "vals"
   ]
  },
  {
   "cell_type": "code",
   "execution_count": 174,
   "metadata": {},
   "outputs": [
    {
     "data": {
      "text/plain": [
       "<matplotlib.collections.PathCollection at 0x7f12035c0d30>"
      ]
     },
     "execution_count": 174,
     "metadata": {},
     "output_type": "execute_result"
    },
    {
     "data": {
      "image/png": "[encoded data removed]",
      "text/plain": [
       "<Figure size 432x288 with 1 Axes>"
      ]
     },
     "metadata": {
      "needs_background": "light"
     },
     "output_type": "display_data"
    }
   ],
   "source": [
    "# Pretty much dominated by the diagonal\n",
    "# Conj: J is diagonally dominant, and strictly so when b is larger than unity. \n",
    "\n",
    "plt.scatter(-np.sort(-np.diag(J)), vals)"
   ]
  },
  {
   "cell_type": "code",
   "execution_count": 122,
   "metadata": {},
   "outputs": [
    {
     "data": {
      "text/plain": [
       "<matplotlib.image.AxesImage at 0x7f12038610f0>"
      ]
     },
     "execution_count": 122,
     "metadata": {},
     "output_type": "execute_result"
    },
    {
     "data": {
      "image/png": "[encoded data removed]",
      "text/plain": [
       "<Figure size 432x288 with 1 Axes>"
      ]
     },
     "metadata": {
      "needs_background": "light"
     },
     "output_type": "display_data"
    }
   ],
   "source": [
    "plt.imshow(J)"
   ]
  },
  {
   "cell_type": "code",
   "execution_count": 123,
   "metadata": {},
   "outputs": [
    {
     "data": {
      "text/plain": [
       "array([[ 0.00000000e+00, -3.33948177e-02, -3.46793465e-02, ...,\n",
       "        -3.49567207e-02, -3.55196606e-02,  1.51850943e-02],\n",
       "       [ 9.83237225e-05,  0.00000000e+00, -3.20739783e-04, ...,\n",
       "        -3.29220711e-04, -3.47173401e-04,  1.70424041e-04],\n",
       "       [ 2.47880170e-05, -6.95381956e-05,  0.00000000e+00, ...,\n",
       "        -8.14038170e-05, -8.61914051e-05,  4.13678904e-05],\n",
       "       ...,\n",
       "       [ 1.48768926e-05, -4.14731991e-05, -4.73041766e-05, ...,\n",
       "         0.00000000e+00, -5.15841005e-05,  2.46256175e-05],\n",
       "       [ 2.29696018e-06, -6.32345398e-06, -7.24418192e-06, ...,\n",
       "        -7.46100959e-06,  0.00000000e+00,  3.73957443e-06],\n",
       "       [-1.54064007e-02, -7.00315990e-02, -7.17340438e-02, ...,\n",
       "        -7.20969412e-02, -7.28282374e-02,  0.00000000e+00]])"
      ]
     },
     "execution_count": 123,
     "metadata": {},
     "output_type": "execute_result"
    }
   ],
   "source": [
    "J"
   ]
  },
  {
   "cell_type": "code",
   "execution_count": null,
   "metadata": {},
   "outputs": [],
   "source": []
  }
 ],
 "metadata": {
  "kernelspec": {
   "display_name": "bayesmod",
   "language": "python",
   "name": "bayesmod"
  },
  "language_info": {
   "codemirror_mode": {
    "name": "ipython",
    "version": 3
   },
   "file_extension": ".py",
   "mimetype": "text/x-python",
   "name": "python",
   "nbconvert_exporter": "python",
   "pygments_lexer": "ipython3",
   "version": "3.5.2"
  }
 },
 "nbformat": 4,
 "nbformat_minor": 2
}
