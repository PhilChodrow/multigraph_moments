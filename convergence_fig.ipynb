{
 "cells": [
  {
   "cell_type": "code",
   "execution_count": 1,
   "metadata": {},
   "outputs": [
    {
     "data": {
      "text/plain": [
       "'3.5.2 (default, Oct  8 2019, 13:06:37) \\n[GCC 5.4.0 20160609]'"
      ]
     },
     "execution_count": 1,
     "metadata": {},
     "output_type": "execute_result"
    }
   ],
   "source": [
    "import numpy as np\n",
    "from matplotlib import pyplot as plt\n",
    "from py import opt, read\n",
    "from hypergraph import hypergraph\n",
    "from py.utils import *\n",
    "import pathlib\n",
    "import networkx as nx\n",
    "from scipy.optimize import root, approx_fprime\n",
    "from cProfile import run\n",
    "\n",
    "from scipy.stats import zipf\n",
    "%matplotlib inline\n",
    "\n",
    "import sys\n",
    "sys.version"
   ]
  },
  {
   "cell_type": "code",
   "execution_count": 2,
   "metadata": {},
   "outputs": [
    {
     "name": "stdout",
     "output_type": "stream",
     "text": [
      "127 degeneracies removed, 0 remain.\n"
     ]
    },
    {
     "data": {
      "text/plain": [
       "Text(0.5, 1.0, 'Degree Sequence')"
      ]
     },
     "execution_count": 2,
     "metadata": {},
     "output_type": "execute_result"
    },
    {
     "data": {
      "image/png": "[encoded data removed]",
      "text/plain": [
       "<Figure size 432x288 with 1 Axes>"
      ]
     },
     "metadata": {
      "needs_background": "light"
     },
     "output_type": "display_data"
    }
   ],
   "source": [
    "# construct a degree sequence\n",
    "\n",
    "n = 100  # number of nodes\n",
    "\n",
    "deg = (np.random.rand(n))**4\n",
    "deg += np.random.randint(1, n, n)\n",
    "deg = deg / 2\n",
    "deg = deg.astype(int) + 1\n",
    "deg = deg * 2\n",
    "deg[9:10] = 1000\n",
    "\n",
    "\n",
    "deg[80] = 200\n",
    "\n",
    "# use nx.configuration model to make a multigraph, then represent as hypergraph\n",
    "g = nx.configuration_model(deg)\n",
    "e = list(g.edges())\n",
    "\n",
    "G = hypergraph.hypergraph(e)\n",
    "G.remove_degeneracy()        # remove self-loops\n",
    "d = G.node_degrees()\n",
    "d = np.sort(d)\n",
    "n = len(d)\n",
    "\n",
    "\n",
    "plt.scatter(np.arange(n), np.sort(d))\n",
    "plt.title('Degree Sequence')"
   ]
  },
  {
   "cell_type": "code",
   "execution_count": 3,
   "metadata": {},
   "outputs": [],
   "source": [
    "# use copies of a star graph\n",
    "k_copies = 10\n",
    "\n",
    "j_leaves = 100\n",
    "\n",
    "d = np.repeat(np.concatenate(([j_leaves], np.repeat(1, j_leaves))), k_copies)\n",
    "n = len(d)"
   ]
  },
  {
   "cell_type": "code",
   "execution_count": 4,
   "metadata": {},
   "outputs": [],
   "source": [
    "np.random.seed(seed=12345)\n",
    "\n",
    "# zipf-distributed\n",
    "\n",
    "n = 200\n",
    "\n",
    "d1 = zipf.rvs(a = 2, size=n)\n",
    "d1 = 2*d1\n",
    "d1 = np.sort(d1)"
   ]
  },
  {
   "cell_type": "code",
   "execution_count": 5,
   "metadata": {},
   "outputs": [],
   "source": [
    "np.random.seed(seed=12345)\n",
    "\n",
    "# zipf-distributed\n",
    "\n",
    "n = 200\n",
    "\n",
    "d2 = np.random.randint(n/4, size = n) + 1\n",
    "# d2 = (d2/50) ** 4\n",
    "d2 = 2*d2\n",
    "d2 = np.sort(d2)"
   ]
  },
  {
   "cell_type": "code",
   "execution_count": 6,
   "metadata": {},
   "outputs": [
    {
     "data": {
      "text/plain": [
       "<matplotlib.collections.PathCollection at 0x7f1203a97470>"
      ]
     },
     "execution_count": 6,
     "metadata": {},
     "output_type": "execute_result"
    },
    {
     "data": {
      "image/png": "[encoded data removed]",
      "text/plain": [
       "<Figure size 432x288 with 1 Axes>"
      ]
     },
     "metadata": {
      "needs_background": "light"
     },
     "output_type": "display_data"
    }
   ],
   "source": [
    "plt.scatter(np.arange(n), d1)\n",
    "plt.scatter(np.arange(n), d2)"
   ]
  },
  {
   "cell_type": "code",
   "execution_count": 7,
   "metadata": {},
   "outputs": [
    {
     "name": "stdout",
     "output_type": "stream",
     "text": [
      "Warning: convergence within tolerance 0.01 not reached within 5 steps. MSE = 187.64266528174548\n",
      "Warning: convergence within tolerance 0.01 not reached within 5 steps. MSE = 174.9748106342188\n",
      "Warning: convergence within tolerance 0.01 not reached within 5 steps. MSE = 98.15518280284968\n",
      "Warning: convergence within tolerance 0.01 not reached within 5 steps. MSE = 56.44898627150465\n",
      "Warning: convergence within tolerance 0.01 not reached within 5 steps. MSE = 32.7253538055625\n",
      "Warning: convergence within tolerance 0.01 not reached within 5 steps. MSE = 19.045385451380763\n",
      "Warning: convergence within tolerance 0.01 not reached within 5 steps. MSE = 11.11967387074362\n",
      "Warning: convergence within tolerance 0.01 not reached within 5 steps. MSE = 6.528907160707158\n",
      "Warning: convergence within tolerance 0.01 not reached within 5 steps. MSE = 3.8583944832352888\n",
      "Warning: convergence within tolerance 0.01 not reached within 5 steps. MSE = 2.298517571688558\n",
      "Warning: convergence within tolerance 0.01 not reached within 5 steps. MSE = 1.3794981676017974\n",
      "Warning: convergence within tolerance 0.01 not reached within 5 steps. MSE = 0.8373588188985275\n",
      "Warning: convergence within tolerance 0.01 not reached within 5 steps. MSE = 0.5152500507344159\n",
      "Warning: convergence within tolerance 0.01 not reached within 5 steps. MSE = 0.3225022147734586\n",
      "Warning: convergence within tolerance 0.01 not reached within 5 steps. MSE = 0.2073105664318304\n",
      "Warning: convergence within tolerance 0.01 not reached within 5 steps. MSE = 0.13695996786284015\n",
      "Warning: convergence within tolerance 0.01 not reached within 5 steps. MSE = 0.09479588863378803\n",
      "Warning: convergence within tolerance 0.01 not reached within 5 steps. MSE = 0.06887218753825422\n",
      "Warning: convergence within tolerance 0.01 not reached within 5 steps. MSE = 0.053002008255073375\n",
      "Warning: convergence within tolerance 0.01 not reached within 5 steps. MSE = 0.04285564872752534\n",
      "Successfully converged within tolerance 0.01 in 3 steps.\n",
      "Successfully converged within tolerance 0.01 in 1 steps.\n",
      "Successfully converged within tolerance 0.01 in 1 steps.\n",
      "Successfully converged within tolerance 0.01 in 1 steps.\n",
      "Successfully converged within tolerance 0.01 in 1 steps.\n",
      "Successfully converged within tolerance 0.01 in 1 steps.\n",
      "Successfully converged within tolerance 0.01 in 1 steps.\n",
      "Successfully converged within tolerance 0.01 in 1 steps.\n",
      "Successfully converged within tolerance 0.01 in 1 steps.\n",
      "Successfully converged within tolerance 0.01 in 1 steps.\n",
      "Successfully converged within tolerance 0.01 in 1 steps.\n",
      "Successfully converged within tolerance 0.01 in 1 steps.\n",
      "Successfully converged within tolerance 0.01 in 1 steps.\n",
      "Successfully converged within tolerance 0.01 in 1 steps.\n",
      "Successfully converged within tolerance 0.01 in 1 steps.\n",
      "Successfully converged within tolerance 0.01 in 1 steps.\n",
      "Successfully converged within tolerance 0.01 in 1 steps.\n",
      "Successfully converged within tolerance 0.01 in 1 steps.\n",
      "Successfully converged within tolerance 0.01 in 1 steps.\n",
      "Successfully converged within tolerance 0.01 in 1 steps.\n"
     ]
    },
    {
     "data": {
      "image/png": "[encoded data removed]",
      "text/plain": [
       "<Figure size 648x180 with 3 Axes>"
      ]
     },
     "metadata": {
      "needs_background": "light"
     },
     "output_type": "display_data"
    }
   ],
   "source": [
    "fig = plt.figure(figsize = (9, 2.5))\n",
    "ax1 = fig.add_subplot(131)\n",
    "ax2 = fig.add_subplot(133)\n",
    "ax3 = fig.add_subplot(132)\n",
    "\n",
    "\n",
    "\n",
    "b1 = np.ones(n)\n",
    "\n",
    "obj = opt.mse(b1, d1)\n",
    "\n",
    "\n",
    "color = 'grey'\n",
    "alpha = .4\n",
    "size = 1\n",
    "\n",
    "ax2.plot(d1, b1, color = color, linewidth = size, alpha = alpha)\n",
    "\n",
    "steps = 20\n",
    "interval = 5\n",
    "\n",
    "v1 = np.zeros(steps+1)\n",
    "v2 = np.zeros(steps+1)\n",
    "\n",
    "v1[0] = obj\n",
    "\n",
    "for i in range(steps):\n",
    "    b1, obj = opt.compute_b(d1, alpha = 0.05, \n",
    "                           message_every = 100, \n",
    "                           b0 = b1, \n",
    "                           max_steps = interval, \n",
    "                           tol = .01)\n",
    "    v1[i+1] = obj\n",
    "    if i == steps - 1:\n",
    "        color = 'darkslategrey'\n",
    "        alpha = 1\n",
    "        size = 2\n",
    "    \n",
    "    ax2.plot(d1, b1, color = color, linewidth = size, alpha = alpha)\n",
    "    \n",
    "#     ax1.scatter([i], [obj], edgecolor = 'darkslategrey', color = 'white')\n",
    "    ax1.semilogy()\n",
    "    \n",
    "b2 = np.ones(n)\n",
    "\n",
    "\n",
    "obj = opt.mse(b2, d2)\n",
    "\n",
    "color = 'grey'\n",
    "alpha = .4\n",
    "size = 1\n",
    "\n",
    "ax3.plot(d2, b2, color = color, linewidth = size, alpha = alpha)\n",
    "\n",
    "v2[0] = obj\n",
    "\n",
    "for i in range(steps):\n",
    "    b2, obj = opt.compute_b(d2, alpha = 0.2, \n",
    "                           message_every = 100, \n",
    "                           b0 = b2, \n",
    "                           max_steps = interval, \n",
    "                           tol = .01)\n",
    "    v2[i+1] = obj\n",
    "    if i == steps - 1:\n",
    "        color = 'firebrick'\n",
    "        alpha = 1\n",
    "        size = 2\n",
    "    \n",
    "    ax3.plot(d2, b2, color = color, linewidth = size, alpha = alpha)\n",
    "        \n",
    "        \n",
    "ax1.plot(np.arange(steps+1), v1, color = 'darkslategrey', zorder = 1)\n",
    "ax1.scatter(np.arange(steps+1), v1, facecolors = 'white', edgecolors = 'darkslategrey', zorder = 2)\n",
    "ax1.plot(np.arange(steps+1), v2, color = 'firebrick', zorder = 1)\n",
    "ax1.scatter(np.arange(steps+1), v2, facecolors = 'white', edgecolors = 'firebrick', zorder = 2)\n",
    "\n",
    "\n",
    "ax1.set(xlabel = 'Iteration Number',\n",
    "        ylabel = 'MSE', \n",
    "        title = '(a)')\n",
    "\n",
    "ax2.set(xlabel = r'$d$ (Zipf)',\n",
    "        ylabel = r'$\\hat{\\beta}$',\n",
    "        title = '(c)')\n",
    "\n",
    "ax3.set(xlabel = r'$d$ (Uniform)',\n",
    "        ylabel = r'$\\hat{\\beta}$',\n",
    "        title = '(b)')\n",
    "\n",
    "for ax in [ax1, ax2, ax3]:\n",
    "    ax.spines['right'].set_visible(False)\n",
    "    ax.spines['top'].set_visible(False)\n",
    "\n",
    "plt.tight_layout()\n",
    "\n",
    "plt.savefig('fig/convergence.png', dpi = 300)"
   ]
  },
  {
   "cell_type": "code",
   "execution_count": 9,
   "metadata": {},
   "outputs": [
    {
     "name": "stdout",
     "output_type": "stream",
     "text": [
      "370.2212965727941\n",
      "562.4387503514677\n",
      "561.3022180988338\n",
      "13.908207606674647\n",
      "198.83249385385716\n",
      "1.0480667192045e-19\n",
      "1.0480667192045e-19 -- infeasible\n",
      "1.1873907050890562e-21\n",
      "1.1873907050890562e-21 -- infeasible\n",
      "162.98414676257966\n",
      "397.59016561960146\n",
      "999.0725985607183\n",
      "159.09390958774367\n",
      "584.5452864827089\n",
      "8.810036552600617e-16\n",
      "8.810036552600617e-16 -- infeasible\n",
      "0.2809283619254668\n",
      "4.276426022125482e-17\n",
      "4.276426022125482e-17 -- infeasible\n",
      "699.5149547229468\n",
      "111.82747553417798\n",
      "2.1679816628646706e-17\n",
      "2.1679816628646706e-17 -- infeasible\n",
      "3.2131944970550707e-14\n",
      "3.2131944970550707e-14 -- infeasible\n",
      "770.3705086709988\n"
     ]
    },
    {
     "data": {
      "text/plain": [
       "[<matplotlib.lines.Line2D at 0x7fb39cd203c8>]"
      ]
     },
     "execution_count": 9,
     "metadata": {},
     "output_type": "execute_result"
    },
    {
     "data": {
      "image/png": "[encoded data removed]",
      "text/plain": [
       "<Figure size 432x288 with 1 Axes>"
      ]
     },
     "metadata": {
      "needs_background": "light"
     },
     "output_type": "display_data"
    }
   ],
   "source": [
    "n_feasible = 0\n",
    "\n",
    "for i in range(20):\n",
    "    b_ = root(lambda b: opt.degree_estimate(b) - d1, x0 = np.random.rand(n))['x']\n",
    "\n",
    "    obj = opt.mse(b_, d1)\n",
    "    print(obj)\n",
    "    if obj < 0.01:\n",
    "        if opt.check_feasible(b_):\n",
    "            color = 'black'\n",
    "            alpha = 1\n",
    "            n_feasible += 1\n",
    "            print(str(obj) + str(' -- feasible'))\n",
    "        else:\n",
    "            color = 'grey'\n",
    "            alpha = .2\n",
    "            print(str(obj) + str(' -- infeasible'))\n",
    "        plt.plot(d1, b_, color = color, alpha = alpha)\n",
    "plt.gca().set(ylim = (0, 100))\n",
    "    \n",
    "b_ = root(lambda b: opt.degree_estimate(b) - d1, x0 = b1)['x']\n",
    "plt.plot(d1, b_, color = 'black', alpha = 1)"
   ]
  },
  {
   "cell_type": "code",
   "execution_count": 11,
   "metadata": {},
   "outputs": [
    {
     "name": "stderr",
     "output_type": "stream",
     "text": [
      "/home/pchodrow/bayes_modularity/venv/lib/python3.5/site-packages/ipykernel_launcher.py:5: RuntimeWarning: divide by zero encountered in true_divide\n",
      "  \"\"\"\n"
     ]
    },
    {
     "data": {
      "text/plain": [
       "[(-1, 15), (0.5, 1.5)]"
      ]
     },
     "execution_count": 11,
     "metadata": {},
     "output_type": "execute_result"
    },
    {
     "data": {
      "image/png": "[encoded data removed]",
      "text/plain": [
       "<Figure size 432x288 with 1 Axes>"
      ]
     },
     "metadata": {
      "needs_background": "light"
     },
     "output_type": "display_data"
    }
   ],
   "source": [
    "fig = plt.figure()\n",
    "ax = fig.add_subplot(111)\n",
    "\n",
    "x = np.linspace(0,2, 101)\n",
    "y = x / (x-1)\n",
    "\n",
    "# plt.plot(x,y)\n",
    "# plt.plot(x, np.zeros_like(x))\n",
    "ax.fill_between(x, y, np.zeros_like(x))\n",
    "ax.set(xlim = (.5,1.5),\n",
    "       ylim = (-1, 15))"
   ]
  },
  {
   "cell_type": "code",
   "execution_count": 12,
   "metadata": {},
   "outputs": [],
   "source": [
    "def star_graph_sequence(k_copies = 1, j_leaves = 2):\n",
    "\n",
    "    d = np.repeat(np.concatenate(([j_leaves], np.repeat(1, j_leaves))), k_copies)\n",
    "    return(d)"
   ]
  },
  {
   "cell_type": "code",
   "execution_count": 21,
   "metadata": {},
   "outputs": [],
   "source": [
    "# b_ = root(lambda b: opt.degree_estimate(b) - d, x0 = np.random.rand(n))['x']\n",
    "\n",
    "M = np.zeros((5,5))\n",
    "\n",
    "for i in range(1, 6):\n",
    "    for j in range(1, 6):\n",
    "        d = star_graph_sequence(i+1, j)\n",
    "        n = len(d)\n",
    "\n",
    "#         b_, obj = opt.compute_b(d, message_every = 10000, alpha = .001, max_steps = 10**3)\n",
    "        b_ = -1\n",
    "        obj = 2\n",
    "        while np.min(b_) < .5:\n",
    "            b_ = root(lambda b: opt.degree_estimate(b) - d, x0 = np.ones(n))['x']\n",
    "            obj = opt.mse(b_, d)\n",
    "        M[i-1,j-1] = np.min(b_)\n",
    "#         M[i-1,j-1] = obj"
   ]
  },
  {
   "cell_type": "code",
   "execution_count": 33,
   "metadata": {},
   "outputs": [
    {
     "data": {
      "text/plain": [
       "([<matplotlib.axis.YTick at 0x7fb39b086940>,\n",
       "  <matplotlib.axis.YTick at 0x7fb39b086278>,\n",
       "  <matplotlib.axis.YTick at 0x7fb39b07ae48>,\n",
       "  <matplotlib.axis.YTick at 0x7fb39b0a1588>,\n",
       "  <matplotlib.axis.YTick at 0x7fb39b0a1a58>],\n",
       " <a list of 5 Text yticklabel objects>)"
      ]
     },
     "execution_count": 33,
     "metadata": {},
     "output_type": "execute_result"
    },
    {
     "data": {
      "image/png": "[encoded data removed]",
      "text/plain": [
       "<Figure size 432x288 with 2 Axes>"
      ]
     },
     "metadata": {
      "needs_background": "light"
     },
     "output_type": "display_data"
    }
   ],
   "source": [
    "fig = plt.figure()\n",
    "ax = fig.add_subplot(111)\n",
    "im = ax.imshow(M, cmap = 'inferno')\n",
    "plt.colorbar(im)\n",
    "\n",
    "ax.set(xlabel = 'Leaves', ylabel = 'Copies')\n",
    "\n",
    "plt.xticks(np.arange(5), 1 + np.arange(5))\n",
    "plt.yticks(np.arange(5), 2 + np.arange(5))"
   ]
  },
  {
   "cell_type": "code",
   "execution_count": 26,
   "metadata": {},
   "outputs": [],
   "source": [
    "d = star_graph_sequence(1, 1)\n",
    "n = len(d)\n",
    "# b_, obj = opt.compute_b(d, \n",
    "#                         message_every = 10000, \n",
    "#                         alpha = .001, \n",
    "#                         max_steps = 10**3, \n",
    "#                         feasible_value = 0)\n",
    "\n",
    "b_ = root(lambda b: opt.degree_estimate(b) - d, x0 = np.ones(n))['x']\n"
   ]
  }
 ],
 "metadata": {
  "kernelspec": {
   "display_name": "bayesmod",
   "language": "python",
   "name": "bayesmod"
  },
  "language_info": {
   "codemirror_mode": {
    "name": "ipython",
    "version": 3
   },
   "file_extension": ".py",
   "mimetype": "text/x-python",
   "name": "python",
   "nbconvert_exporter": "python",
   "pygments_lexer": "ipython3",
   "version": "3.5.2"
  }
 },
 "nbformat": 4,
 "nbformat_minor": 2
}
