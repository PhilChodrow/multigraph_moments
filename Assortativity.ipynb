{
 "cells": [
  {
   "cell_type": "code",
   "execution_count": 26,
   "metadata": {},
   "outputs": [],
   "source": [
    "import numpy as np\n",
    "from matplotlib import pyplot as plt\n",
    "from py import opt, read, hypergraph\n",
    "from py.utils import *\n",
    "from scipy.stats import rankdata"
   ]
  },
  {
   "cell_type": "code",
   "execution_count": 2,
   "metadata": {},
   "outputs": [],
   "source": [
    "w = np.loadtxt('throughput/contact-high-school/w.txt')\n",
    "x = np.loadtxt('throughput/contact-high-school/x.txt')\n",
    "w2 = np.loadtxt('throughput/contact-high-school/w2.txt')"
   ]
  },
  {
   "cell_type": "code",
   "execution_count": 4,
   "metadata": {},
   "outputs": [],
   "source": [
    "d = np.round(w.sum(axis = 0).astype(int))"
   ]
  },
  {
   "cell_type": "code",
   "execution_count": 5,
   "metadata": {},
   "outputs": [
    {
     "name": "stdout",
     "output_type": "stream",
     "text": [
      "round 0, current error = 13333.8657\n",
      "round 1, current error = 53.805\n",
      "round 2, current error = 129.0202\n",
      "round 3, current error = 2.429\n",
      "round 4, current error = 0.1479\n",
      "round 5, current error = 0.0135\n"
     ]
    }
   ],
   "source": [
    "n = len(d)\n",
    "m = np.round(w.sum()/2).astype(int)\n",
    "b_ = opt.compute_b(d)"
   ]
  },
  {
   "cell_type": "code",
   "execution_count": 44,
   "metadata": {},
   "outputs": [],
   "source": [
    "W_ = W_from_b(b_)\n",
    "NG = np.outer(d, d) / d.sum()\n",
    "np.fill_diagonal(NG,0)"
   ]
  },
  {
   "cell_type": "code",
   "execution_count": 185,
   "metadata": {},
   "outputs": [],
   "source": [
    "def assortativity_coefficient(M, method = 'pearson'):\n",
    "    \n",
    "    d = M.sum(axis = 1)\n",
    "    if method == 'spearman':\n",
    "        d = rankdata(d)\n",
    "\n",
    "    m = M/M.sum()\n",
    "    \n",
    "    X = d\n",
    "    if method == 'pearson':\n",
    "        X = X - np.ones(M.shape)\n",
    "    else:\n",
    "        X = np.tile(X, (len(X),1))\n",
    "    \n",
    "    cov = ((X*X.T)*m).sum() - ((X*m).sum())**2\n",
    "    var = ((X**2)*m).sum() - ((X*m).sum())**2\n",
    "    return(cov/var)\n"
   ]
  },
  {
   "cell_type": "code",
   "execution_count": 186,
   "metadata": {},
   "outputs": [
    {
     "name": "stdout",
     "output_type": "stream",
     "text": [
      "-0.01789602084398813\n",
      "0.31447650447396047\n",
      "0.31627429629893866\n"
     ]
    }
   ],
   "source": [
    "method = 'pearson'\n",
    "for M in [NG, W_, w]:\n",
    "    print(assortativity_coefficient(M, method))"
   ]
  },
  {
   "cell_type": "code",
   "execution_count": 187,
   "metadata": {},
   "outputs": [
    {
     "name": "stdout",
     "output_type": "stream",
     "text": [
      "-0.006593472843045412\n",
      "0.1977483576638617\n",
      "0.19751417643412478\n"
     ]
    }
   ],
   "source": [
    "method = 'spearman'\n",
    "for M in [NG, W_, w]:\n",
    "    print(assortativity_coefficient(M, method))"
   ]
  },
  {
   "cell_type": "code",
   "execution_count": 188,
   "metadata": {},
   "outputs": [],
   "source": [
    "data = 'contact-high-school'\n",
    "path = data + '/' + data + '-'\n",
    "\n",
    "t_min = 0\n",
    "\n",
    "C = read.read_data(data, t_min = t_min)\n",
    "C = hypergraph.hypergraph(C)\n",
    "G = hypergraph.projected_graph(C, as_hyper = True)\n",
    "A = adjacency_matrix(G)"
   ]
  },
  {
   "cell_type": "code",
   "execution_count": 189,
   "metadata": {},
   "outputs": [
    {
     "data": {
      "text/plain": [
       "(0.463636752314516, 0.414580819744199)"
      ]
     },
     "execution_count": 189,
     "metadata": {},
     "output_type": "execute_result"
    }
   ],
   "source": [
    "assortativity_coefficient(A, 'pearson'),assortativity_coefficient(A, 'spearman')"
   ]
  },
  {
   "cell_type": "code",
   "execution_count": 184,
   "metadata": {},
   "outputs": [
    {
     "data": {
      "text/plain": [
       "<matplotlib.image.AxesImage at 0x7ff8ecb330f0>"
      ]
     },
     "execution_count": 184,
     "metadata": {},
     "output_type": "execute_result"
    },
    {
     "data": {
      "image/png": "[encoded data removed]",
      "text/plain": [
       "<Figure size 432x288 with 1 Axes>"
      ]
     },
     "metadata": {
      "needs_background": "light"
     },
     "output_type": "display_data"
    }
   ],
   "source": [
    "plt.imshow(degree_sort(A>1000, A.sum(axis = 0)))"
   ]
  },
  {
   "cell_type": "code",
   "execution_count": 192,
   "metadata": {},
   "outputs": [
    {
     "data": {
      "text/plain": [
       "0.27545110269547785"
      ]
     },
     "execution_count": 192,
     "metadata": {},
     "output_type": "execute_result"
    }
   ],
   "source": [
    "(d.mean()**2)/d.sum()"
   ]
  },
  {
   "cell_type": "code",
   "execution_count": null,
   "metadata": {},
   "outputs": [],
   "source": []
  }
 ],
 "metadata": {
  "kernelspec": {
   "display_name": "Python 3",
   "language": "python",
   "name": "python3"
  },
  "language_info": {
   "codemirror_mode": {
    "name": "ipython",
    "version": 3
   },
   "file_extension": ".py",
   "mimetype": "text/x-python",
   "name": "python",
   "nbconvert_exporter": "python",
   "pygments_lexer": "ipython3",
   "version": "3.5.2"
  }
 },
 "nbformat": 4,
 "nbformat_minor": 4
}
