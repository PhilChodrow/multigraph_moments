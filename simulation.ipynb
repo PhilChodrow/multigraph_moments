{
 "cells": [
  {
   "cell_type": "code",
   "execution_count": 1,
   "metadata": {},
   "outputs": [],
   "source": [
    "import numpy as np\n",
    "from matplotlib import pyplot as plt\n",
    "from hypergraph import hypergraph, read"
   ]
  },
  {
   "cell_type": "code",
   "execution_count": 2,
   "metadata": {},
   "outputs": [],
   "source": [
    "data = 'contact-high-school'\n",
    "path = data + '/' + data + '-'"
   ]
  },
  {
   "cell_type": "code",
   "execution_count": 3,
   "metadata": {},
   "outputs": [],
   "source": [
    "t_min = 1386330122\n",
    "\n",
    "C = read.read_data(data, t_min = t_min)\n",
    "C = hypergraph.hypergraph(C)\n",
    "G = hypergraph.projected_graph(C, as_hyper = True)"
   ]
  },
  {
   "cell_type": "code",
   "execution_count": 5,
   "metadata": {},
   "outputs": [
    {
     "data": {
      "text/plain": [
       "(268, 10026)"
      ]
     },
     "execution_count": 5,
     "metadata": {},
     "output_type": "execute_result"
    }
   ],
   "source": [
    "G.n, G.m"
   ]
  },
  {
   "cell_type": "code",
   "execution_count": 36,
   "metadata": {},
   "outputs": [],
   "source": [
    "def experiment(G, n_stub, n_vertex, n_rounds, sample_after, message_every = 100):\n",
    "    \n",
    "    w = np.zeros((G.n, G.n))\n",
    "    x = np.zeros((G.n, G.n))\n",
    "    w2 = np.zeros((G.n, G.n))\n",
    "    \n",
    "    G.MH(label = 'stub', n_steps = n_stub, verbose = False, message = False)\n",
    "    print('Completed stub-labeled MCMC with ' + str(int(n_stub)) + ' steps.')\n",
    "    \n",
    "    for i in range(n_rounds + sample_after):\n",
    "        G.MH(label = 'vertex', n_steps = n_vertex, verbose = False, message = False)\n",
    "        if i % message_every == 0:\n",
    "            print(\"Round \" + str(i) + \" of \" + str(n_rounds + sample_after) + ' completed, ' + str(int(i * n_vertex)) + ' steps taken, acceptance rate = ' + str(round(G.acceptance_rate, 4)))\n",
    "        samples = i - sample_after\n",
    "        if samples > 0:\n",
    "            W = adjacency_matrix(G)\n",
    "            X = 1.0*(W > 0)\n",
    "            \n",
    "            w = (samples - 1)/samples*w + 1.0/samples*W\n",
    "            x = (samples - 1)/samples*x + 1.0/samples*X\n",
    "            w2 = (samples -1)/samples*w2 + 1.0/samples*(W**2)\n",
    "    return(w, x, w2)"
   ]
  },
  {
   "cell_type": "code",
   "execution_count": 103,
   "metadata": {},
   "outputs": [
    {
     "name": "stdout",
     "output_type": "stream",
     "text": [
      "Completed stub-labeled MCMC with 0 steps.\n",
      "Round 0 of 100050 completed, 0 steps taken, acceptance rate = 0.2783\n",
      "Round 1000 of 100050 completed, 9236900 steps taken, acceptance rate = 0.2877\n",
      "Round 2000 of 100050 completed, 18473800 steps taken, acceptance rate = 0.2844\n",
      "Round 3000 of 100050 completed, 27710700 steps taken, acceptance rate = 0.2843\n",
      "Round 4000 of 100050 completed, 36947600 steps taken, acceptance rate = 0.2843\n",
      "Round 5000 of 100050 completed, 46184500 steps taken, acceptance rate = 0.28\n",
      "Round 6000 of 100050 completed, 55421400 steps taken, acceptance rate = 0.2823\n",
      "Round 7000 of 100050 completed, 64658300 steps taken, acceptance rate = 0.2839\n",
      "Round 8000 of 100050 completed, 73895200 steps taken, acceptance rate = 0.2835\n",
      "Round 9000 of 100050 completed, 83132100 steps taken, acceptance rate = 0.2819\n",
      "Round 10000 of 100050 completed, 92369000 steps taken, acceptance rate = 0.2814\n",
      "Round 11000 of 100050 completed, 101605900 steps taken, acceptance rate = 0.279\n",
      "Round 12000 of 100050 completed, 110842800 steps taken, acceptance rate = 0.2841\n",
      "Round 13000 of 100050 completed, 120079700 steps taken, acceptance rate = 0.29\n",
      "Round 14000 of 100050 completed, 129316600 steps taken, acceptance rate = 0.2819\n",
      "Round 15000 of 100050 completed, 138553500 steps taken, acceptance rate = 0.2883\n",
      "Round 16000 of 100050 completed, 147790400 steps taken, acceptance rate = 0.2811\n",
      "Round 17000 of 100050 completed, 157027300 steps taken, acceptance rate = 0.2838\n",
      "Round 18000 of 100050 completed, 166264200 steps taken, acceptance rate = 0.2833\n",
      "Round 19000 of 100050 completed, 175501100 steps taken, acceptance rate = 0.2821\n",
      "Round 20000 of 100050 completed, 184738000 steps taken, acceptance rate = 0.2799\n",
      "Round 21000 of 100050 completed, 193974900 steps taken, acceptance rate = 0.2775\n",
      "Round 22000 of 100050 completed, 203211800 steps taken, acceptance rate = 0.2801\n",
      "Round 23000 of 100050 completed, 212448700 steps taken, acceptance rate = 0.2795\n",
      "Round 24000 of 100050 completed, 221685600 steps taken, acceptance rate = 0.2872\n",
      "Round 25000 of 100050 completed, 230922500 steps taken, acceptance rate = 0.2852\n",
      "Round 26000 of 100050 completed, 240159400 steps taken, acceptance rate = 0.2859\n",
      "Round 27000 of 100050 completed, 249396300 steps taken, acceptance rate = 0.2824\n",
      "Round 28000 of 100050 completed, 258633200 steps taken, acceptance rate = 0.2805\n",
      "Round 29000 of 100050 completed, 267870100 steps taken, acceptance rate = 0.2857\n",
      "Round 30000 of 100050 completed, 277107000 steps taken, acceptance rate = 0.291\n",
      "Round 31000 of 100050 completed, 286343900 steps taken, acceptance rate = 0.2854\n",
      "Round 32000 of 100050 completed, 295580800 steps taken, acceptance rate = 0.2808\n",
      "Round 33000 of 100050 completed, 304817700 steps taken, acceptance rate = 0.2761\n",
      "Round 34000 of 100050 completed, 314054600 steps taken, acceptance rate = 0.2828\n",
      "Round 35000 of 100050 completed, 323291500 steps taken, acceptance rate = 0.2851\n",
      "Round 36000 of 100050 completed, 332528400 steps taken, acceptance rate = 0.2824\n",
      "Round 37000 of 100050 completed, 341765300 steps taken, acceptance rate = 0.2808\n",
      "Round 38000 of 100050 completed, 351002200 steps taken, acceptance rate = 0.2826\n",
      "Round 39000 of 100050 completed, 360239100 steps taken, acceptance rate = 0.2856\n",
      "Round 40000 of 100050 completed, 369476000 steps taken, acceptance rate = 0.2814\n",
      "Round 41000 of 100050 completed, 378712900 steps taken, acceptance rate = 0.2893\n",
      "Round 42000 of 100050 completed, 387949800 steps taken, acceptance rate = 0.2824\n",
      "Round 43000 of 100050 completed, 397186700 steps taken, acceptance rate = 0.2862\n",
      "Round 44000 of 100050 completed, 406423600 steps taken, acceptance rate = 0.2846\n",
      "Round 45000 of 100050 completed, 415660500 steps taken, acceptance rate = 0.2857\n",
      "Round 46000 of 100050 completed, 424897400 steps taken, acceptance rate = 0.2899\n",
      "Round 47000 of 100050 completed, 434134300 steps taken, acceptance rate = 0.2884\n",
      "Round 48000 of 100050 completed, 443371200 steps taken, acceptance rate = 0.2819\n",
      "Round 49000 of 100050 completed, 452608100 steps taken, acceptance rate = 0.2858\n",
      "Round 50000 of 100050 completed, 461845000 steps taken, acceptance rate = 0.2837\n",
      "Round 51000 of 100050 completed, 471081900 steps taken, acceptance rate = 0.2864\n",
      "Round 52000 of 100050 completed, 480318800 steps taken, acceptance rate = 0.2818\n",
      "Round 53000 of 100050 completed, 489555700 steps taken, acceptance rate = 0.2801\n",
      "Round 54000 of 100050 completed, 498792600 steps taken, acceptance rate = 0.2788\n",
      "Round 55000 of 100050 completed, 508029500 steps taken, acceptance rate = 0.2838\n",
      "Round 56000 of 100050 completed, 517266400 steps taken, acceptance rate = 0.277\n",
      "Round 57000 of 100050 completed, 526503300 steps taken, acceptance rate = 0.281\n",
      "Round 58000 of 100050 completed, 535740200 steps taken, acceptance rate = 0.2854\n",
      "Round 59000 of 100050 completed, 544977100 steps taken, acceptance rate = 0.2789\n",
      "Round 60000 of 100050 completed, 554214000 steps taken, acceptance rate = 0.2894\n",
      "Round 61000 of 100050 completed, 563450900 steps taken, acceptance rate = 0.2851\n",
      "Round 62000 of 100050 completed, 572687800 steps taken, acceptance rate = 0.2836\n",
      "Round 63000 of 100050 completed, 581924700 steps taken, acceptance rate = 0.277\n",
      "Round 64000 of 100050 completed, 591161600 steps taken, acceptance rate = 0.2853\n",
      "Round 65000 of 100050 completed, 600398500 steps taken, acceptance rate = 0.2843\n",
      "Round 66000 of 100050 completed, 609635400 steps taken, acceptance rate = 0.2833\n",
      "Round 67000 of 100050 completed, 618872300 steps taken, acceptance rate = 0.2849\n",
      "Round 68000 of 100050 completed, 628109200 steps taken, acceptance rate = 0.288\n",
      "Round 69000 of 100050 completed, 637346100 steps taken, acceptance rate = 0.2858\n",
      "Round 70000 of 100050 completed, 646583000 steps taken, acceptance rate = 0.2932\n",
      "Round 71000 of 100050 completed, 655819900 steps taken, acceptance rate = 0.2834\n",
      "Round 72000 of 100050 completed, 665056800 steps taken, acceptance rate = 0.2786\n",
      "Round 73000 of 100050 completed, 674293700 steps taken, acceptance rate = 0.2891\n",
      "Round 74000 of 100050 completed, 683530600 steps taken, acceptance rate = 0.2878\n",
      "Round 75000 of 100050 completed, 692767500 steps taken, acceptance rate = 0.2823\n",
      "Round 76000 of 100050 completed, 702004400 steps taken, acceptance rate = 0.2845\n",
      "Round 77000 of 100050 completed, 711241300 steps taken, acceptance rate = 0.2783\n",
      "Round 78000 of 100050 completed, 720478200 steps taken, acceptance rate = 0.2742\n",
      "Round 79000 of 100050 completed, 729715100 steps taken, acceptance rate = 0.2832\n",
      "Round 80000 of 100050 completed, 738952000 steps taken, acceptance rate = 0.2835\n",
      "Round 81000 of 100050 completed, 748188900 steps taken, acceptance rate = 0.2823\n",
      "Round 82000 of 100050 completed, 757425800 steps taken, acceptance rate = 0.2822\n",
      "Round 83000 of 100050 completed, 766662700 steps taken, acceptance rate = 0.288\n",
      "Round 84000 of 100050 completed, 775899600 steps taken, acceptance rate = 0.2813\n",
      "Round 85000 of 100050 completed, 785136500 steps taken, acceptance rate = 0.2855\n",
      "Round 86000 of 100050 completed, 794373400 steps taken, acceptance rate = 0.2824\n",
      "Round 87000 of 100050 completed, 803610300 steps taken, acceptance rate = 0.2881\n",
      "Round 88000 of 100050 completed, 812847200 steps taken, acceptance rate = 0.285\n",
      "Round 89000 of 100050 completed, 822084100 steps taken, acceptance rate = 0.2812\n",
      "Round 90000 of 100050 completed, 831321000 steps taken, acceptance rate = 0.2795\n",
      "Round 91000 of 100050 completed, 840557900 steps taken, acceptance rate = 0.2832\n",
      "Round 92000 of 100050 completed, 849794800 steps taken, acceptance rate = 0.2851\n",
      "Round 93000 of 100050 completed, 859031700 steps taken, acceptance rate = 0.2883\n",
      "Round 94000 of 100050 completed, 868268600 steps taken, acceptance rate = 0.2864\n",
      "Round 95000 of 100050 completed, 877505500 steps taken, acceptance rate = 0.2814\n",
      "Round 96000 of 100050 completed, 886742400 steps taken, acceptance rate = 0.2833\n",
      "Round 97000 of 100050 completed, 895979300 steps taken, acceptance rate = 0.2821\n",
      "Round 98000 of 100050 completed, 905216200 steps taken, acceptance rate = 0.2853\n",
      "Round 99000 of 100050 completed, 914453100 steps taken, acceptance rate = 0.2787\n",
      "Round 100000 of 100050 completed, 923690000 steps taken, acceptance rate = 0.2842\n"
     ]
    }
   ],
   "source": [
    "n_steps = round(G.m*np.log(G.m))\n",
    "w, x, w2 = experiment(G, n_stub = 0 , n_vertex = n_steps/10, n_rounds = 100000, sample_after = 50, message_every = 1000)"
   ]
  },
  {
   "cell_type": "code",
   "execution_count": 104,
   "metadata": {},
   "outputs": [],
   "source": [
    "np.savetxt('throughput/contact-high-school/w.txt', w, fmt = \"%.4f\")\n",
    "np.savetxt('throughput/contact-high-school/x.txt', x, \"%.4f\")\n",
    "np.savetxt('throughput/contact-high-school/w2.txt', w2, \"%.4f\")"
   ]
  },
  {
   "cell_type": "code",
   "execution_count": null,
   "metadata": {},
   "outputs": [],
   "source": []
  }
 ],
 "metadata": {
  "kernelspec": {
   "display_name": "Python 3",
   "language": "python",
   "name": "python3"
  },
  "language_info": {
   "codemirror_mode": {
    "name": "ipython",
    "version": 3
   },
   "file_extension": ".py",
   "mimetype": "text/x-python",
   "name": "python",
   "nbconvert_exporter": "python",
   "pygments_lexer": "ipython3",
   "version": "3.5.2"
  }
 },
 "nbformat": 4,
 "nbformat_minor": 4
}
