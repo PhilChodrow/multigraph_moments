{
 "cells": [
  {
   "cell_type": "markdown",
   "metadata": {},
   "source": [
    "# MCMC Estimation of Moments of $W$\n",
    "\n",
    "In this notebook, we run the simulations to compute an MCMC estimate of the moments of $W$. In addition to the files contained in this repository, you will need `hypergraph.py` (available [here](https://github.com/PhilChodrow/hypergraph)) in the `scripts` directory, and an unzipped copy of the `contact-high-school` data set (available [here](https://www.cs.cornell.edu/~arb/data/contact-high-school/index.html)) in the `data` directory. \n",
    "\n",
    "Please note that running this notebook as written may take a long time -- about 3 days on the author's Celeron 2955U processor. Use of a remote computing runtime is recommended.  "
   ]
  },
  {
   "cell_type": "code",
   "execution_count": null,
   "metadata": {},
   "outputs": [],
   "source": [
    "import numpy as np\n",
    "from scripts import hypergraph, read\n",
    "from scripts.utils import experiment\n",
    "import pathlib"
   ]
  },
  {
   "cell_type": "code",
   "execution_count": null,
   "metadata": {},
   "outputs": [],
   "source": [
    "data_path = 'contact-high-school'\n",
    "through_path = 'throughput/' + data_path"
   ]
  },
  {
   "cell_type": "code",
   "execution_count": null,
   "metadata": {},
   "outputs": [],
   "source": [
    "# create the throughput folder for \n",
    "pathlib.Path(through_path).mkdir(parents=True, exist_ok=True) "
   ]
  },
  {
   "cell_type": "code",
   "execution_count": null,
   "metadata": {},
   "outputs": [],
   "source": [
    "# subset for convenience purposes -- data subset will start at this timestamp\n",
    "t_min = 1386330122\n",
    "\n",
    "# read in the data, represent it as a hypergraph object, and compute the projected dyadic graph (calling it G)\n",
    "C = read.read_data(data, t_min = t_min)\n",
    "C = hypergraph.hypergraph(C)\n",
    "G = hypergraph.projected_graph(C, as_hyper = True)"
   ]
  },
  {
   "cell_type": "code",
   "execution_count": null,
   "metadata": {},
   "outputs": [],
   "source": [
    "# conduct the simulation\n",
    "\n",
    "n_steps = round(G.m*np.log(G.m)) # heuristic from coupon-collector problems. \n",
    "w, x, w2 = experiment(G, \n",
    "                      n_stub = 10**6,          # do stub-labeled MCMC as a warm-start \n",
    "                      n_vertex = n_steps/10,   # steps per round\n",
    "                      n_rounds = 10**5,        # number of sampling rounds\n",
    "                      sample_after = 50,       # give some time to mix\n",
    "                      message_every = 10**4)   # print a periodic message"
   ]
  },
  {
   "cell_type": "code",
   "execution_count": null,
   "metadata": {},
   "outputs": [],
   "source": [
    "# save the results\n",
    "\n",
    "np.savetxt(through_path + '/w.txt',  w,  \"%.4f\")\n",
    "np.savetxt(through_path + '/x.txt',  x,  \"%.4f\")\n",
    "np.savetxt(through_path + '/w2.txt', w2, \"%.4f\")"
   ]
  }
 ],
 "metadata": {
  "kernelspec": {
   "display_name": "Python 3",
   "language": "python",
   "name": "python3"
  },
  "language_info": {
   "codemirror_mode": {
    "name": "ipython",
    "version": 3
   },
   "file_extension": ".py",
   "mimetype": "text/x-python",
   "name": "python",
   "nbconvert_exporter": "python",
   "pygments_lexer": "ipython3",
   "version": "3.5.2"
  }
 },
 "nbformat": 4,
 "nbformat_minor": 4
}
