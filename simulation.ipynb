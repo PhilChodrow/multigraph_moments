{
 "cells": [
  {
   "cell_type": "code",
   "execution_count": 1,
   "metadata": {},
   "outputs": [],
   "source": [
    "import numpy as np\n",
    "from matplotlib import pyplot as plt\n",
    "from hypergraph import hypergraph, read"
   ]
  },
  {
   "cell_type": "code",
   "execution_count": 2,
   "metadata": {},
   "outputs": [],
   "source": [
    "data = 'contact-high-school'\n",
    "path = data + '/' + data + '-'"
   ]
  },
  {
   "cell_type": "code",
   "execution_count": 3,
   "metadata": {},
   "outputs": [],
   "source": [
    "t_min = 1386330122\n",
    "\n",
    "C = read.read_data(data, t_min = t_min)\n",
    "C = hypergraph.hypergraph(C)\n",
    "G = hypergraph.projected_graph(C, as_hyper = True)"
   ]
  },
  {
   "cell_type": "code",
   "execution_count": 4,
   "metadata": {},
   "outputs": [],
   "source": [
    "def adjacency_matrix(G):\n",
    "    A = np.zeros((G.n, G.n))\n",
    "    for f in G.C:\n",
    "        A[f[0], f[1]] += 1\n",
    "        A[f[1], f[0]] += 1\n",
    "    return(A)"
   ]
  },
  {
   "cell_type": "code",
   "execution_count": 5,
   "metadata": {},
   "outputs": [
    {
     "data": {
      "text/plain": [
       "(268, 10026)"
      ]
     },
     "execution_count": 5,
     "metadata": {},
     "output_type": "execute_result"
    }
   ],
   "source": [
    "G.n, G.m"
   ]
  },
  {
   "cell_type": "code",
   "execution_count": 36,
   "metadata": {},
   "outputs": [],
   "source": [
    "def experiment(G, n_stub, n_vertex, n_rounds, sample_after, message_every = 100):\n",
    "    \n",
    "    w = np.zeros((G.n, G.n))\n",
    "    x = np.zeros((G.n, G.n))\n",
    "    w2 = np.zeros((G.n, G.n))\n",
    "    \n",
    "    G.MH(label = 'stub', n_steps = n_stub, verbose = False, message = False)\n",
    "    print('Completed stub-labeled MCMC with ' + str(int(n_stub)) + ' steps.')\n",
    "    \n",
    "    for i in range(n_rounds + sample_after):\n",
    "        G.MH(label = 'vertex', n_steps = n_vertex, verbose = False, message = False)\n",
    "        if i % message_every == 0:\n",
    "            print(\"Round \" + str(i) + \" of \" + str(n_rounds + sample_after) + ' completed, ' + str(int(i * n_vertex)) + ' steps taken, acceptance rate = ' + str(round(G.acceptance_rate, 4)))\n",
    "        samples = i - sample_after\n",
    "        if samples > 0:\n",
    "            W = adjacency_matrix(G)\n",
    "            X = 1.0*(W > 0)\n",
    "            \n",
    "            w = (samples - 1)/samples*w + 1.0/samples*W\n",
    "            x = (samples - 1)/samples*x + 1.0/samples*X\n",
    "            w2 = (samples -1)/samples*w2 + 1.0/samples*(W**2)\n",
    "    return(w, x, w2)"
   ]
  },
  {
   "cell_type": "code",
   "execution_count": null,
   "metadata": {},
   "outputs": [
    {
     "name": "stdout",
     "output_type": "stream",
     "text": [
      "Completed stub-labeled MCMC with 0 steps.\n",
      "Round 0 of 100050 completed, 0 steps taken, acceptance rate = 0.2783\n"
     ]
    }
   ],
   "source": [
    "n_steps = round(G.m*np.log(G.m))\n",
    "w, x, w2 = experiment(G, n_stub = 0 , n_vertex = n_steps/10, n_rounds = 100000, sample_after = 50, message_every = 1000)"
   ]
  },
  {
   "cell_type": "code",
   "execution_count": 102,
   "metadata": {},
   "outputs": [],
   "source": [
    "np.savetxt('throughput/contact-high-school/w.txt', w, fmt = \"%.4f\")\n",
    "np.savetxt('throughput/contact-high-school/x.txt', x, \"%.4f\")\n",
    "np.savetxt('throughput/contact-high-school/w2.txt', w2, \"%.4f\")"
   ]
  },
  {
   "cell_type": "code",
   "execution_count": null,
   "metadata": {},
   "outputs": [],
   "source": []
  }
 ],
 "metadata": {
  "kernelspec": {
   "display_name": "Python 3",
   "language": "python",
   "name": "python3"
  },
  "language_info": {
   "codemirror_mode": {
    "name": "ipython",
    "version": 3
   },
   "file_extension": ".py",
   "mimetype": "text/x-python",
   "name": "python",
   "nbconvert_exporter": "python",
   "pygments_lexer": "ipython3",
   "version": "3.5.2"
  }
 },
 "nbformat": 4,
 "nbformat_minor": 4
}
