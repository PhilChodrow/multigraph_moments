{
 "cells": [
  {
   "cell_type": "code",
   "execution_count": 88,
   "metadata": {},
   "outputs": [],
   "source": [
    "import networkx as nx\n",
    "import numpy as np\n",
    "from py import hypergraph, opt\n",
    "from py.utils import experiment, degree_sort, adjacency_matrix\n",
    "from matplotlib import pyplot as plt\n",
    "from scipy.stats import zipf"
   ]
  },
  {
   "cell_type": "code",
   "execution_count": 232,
   "metadata": {},
   "outputs": [
    {
     "data": {
      "text/plain": [
       "array([ 10.,  38.,  48.,  32.,  20.,   8.,  18.,  12.,   2.,  42.,  72.,\n",
       "         4.,  18.,  60.,  54.,  10.,  90.,  30.,   8.,  76.,  10.,   6.,\n",
       "         2.,   4.,  30.,  14.,   6.,  84.,  26.,   6.,  68., 114.,   6.,\n",
       "        16.,  10.,  14.,  42.,  10.,  12.,  32.,   2.,   8.,   4.,   6.,\n",
       "        20.,   6.,   6.,  14.,   2.,  12.])"
      ]
     },
     "execution_count": 232,
     "metadata": {},
     "output_type": "execute_result"
    }
   ],
   "source": [
    "n = 50\n",
    "a = 2\n",
    "deg = (np.random.rand(n)*3)**5\n",
    "# deg = zipf.rvs(a, size=n)**1.8\n",
    "deg += np.random.randint(1, n/2, n)\n",
    "deg = deg /4\n",
    "deg = deg.astype(int)\n",
    "deg = deg *2\n",
    "\n",
    "# deg = deg * (1.1 - np.random.rand())\n",
    "# deg = ((deg + 1.0)*2.0).astype(int)*2\n",
    "\n",
    "g = nx.configuration_model(deg)\n",
    "e = list(g.edges())\n",
    "e = [E for E in e if E[0]!=E[1]]\n",
    "G = hypergraph.hypergraph(e)\n",
    "d = G.node_degrees()\n",
    "d"
   ]
  },
  {
   "cell_type": "code",
   "execution_count": 233,
   "metadata": {},
   "outputs": [
    {
     "data": {
      "text/plain": [
       "<matplotlib.collections.PathCollection at 0x7f4dff2207b8>"
      ]
     },
     "execution_count": 233,
     "metadata": {},
     "output_type": "execute_result"
    },
    {
     "data": {
      "image/png": "[encoded data removed]",
      "text/plain": [
       "<Figure size 432x288 with 1 Axes>"
      ]
     },
     "metadata": {
      "needs_background": "light"
     },
     "output_type": "display_data"
    }
   ],
   "source": [
    "plt.scatter(np.arange(n), np.sort(d))"
   ]
  },
  {
   "cell_type": "code",
   "execution_count": 234,
   "metadata": {},
   "outputs": [
    {
     "data": {
      "text/plain": [
       "0.5077551020408163"
      ]
     },
     "execution_count": 234,
     "metadata": {},
     "output_type": "execute_result"
    }
   ],
   "source": [
    "2*(G.m) / (G.n*(G.n-1))"
   ]
  },
  {
   "cell_type": "code",
   "execution_count": 235,
   "metadata": {},
   "outputs": [],
   "source": [
    "CL = np.outer(d, d)/d.sum()\n",
    "np.fill_diagonal(CL, 0)"
   ]
  },
  {
   "cell_type": "code",
   "execution_count": 236,
   "metadata": {},
   "outputs": [
    {
     "name": "stdout",
     "output_type": "stream",
     "text": [
      "Completed stub-labeled MCMC with 10000 steps.\n",
      "Round 0 of 1050 completed, 0 steps taken, acceptance rate = 0.2204\n",
      "Round 100 of 1050 completed, 40010 steps taken, acceptance rate = 0.1842\n",
      "Round 200 of 1050 completed, 80020 steps taken, acceptance rate = 0.1952\n",
      "Round 300 of 1050 completed, 120030 steps taken, acceptance rate = 0.1649\n",
      "Round 400 of 1050 completed, 160040 steps taken, acceptance rate = 0.197\n",
      "Round 500 of 1050 completed, 200050 steps taken, acceptance rate = 0.1969\n",
      "Round 600 of 1050 completed, 240060 steps taken, acceptance rate = 0.1898\n",
      "Round 700 of 1050 completed, 280070 steps taken, acceptance rate = 0.1798\n",
      "Round 800 of 1050 completed, 320080 steps taken, acceptance rate = 0.181\n",
      "Round 900 of 1050 completed, 360090 steps taken, acceptance rate = 0.1794\n",
      "Round 1000 of 1050 completed, 400100 steps taken, acceptance rate = 0.1792\n"
     ]
    }
   ],
   "source": [
    "n_steps = round(G.m*np.log(G.m))\n",
    "w, x, w2 = experiment(G, n_stub = 10000, n_vertex = n_steps/10, n_rounds = 1000, sample_after = 50, message_every = 100)"
   ]
  },
  {
   "cell_type": "code",
   "execution_count": 238,
   "metadata": {},
   "outputs": [
    {
     "name": "stderr",
     "output_type": "stream",
     "text": [
      "/home/phil/.local/lib/python3.5/site-packages/ipykernel_launcher.py:23: RuntimeWarning: invalid value encountered in true_divide\n"
     ]
    },
    {
     "data": {
      "image/png": "[encoded data removed]",
      "text/plain": [
       "<Figure size 504x216 with 3 Axes>"
      ]
     },
     "metadata": {
      "needs_background": "light"
     },
     "output_type": "display_data"
    }
   ],
   "source": [
    "vmin = -1\n",
    "vmax = 1\n",
    "\n",
    "fig = plt.figure(figsize = (7, 3))\n",
    "\n",
    "ax1 = fig.add_subplot(121)\n",
    "\n",
    "ax1.spines['right'].set_visible(False)\n",
    "ax1.spines['top'].set_visible(False)\n",
    "\n",
    "ax1.scatter(np.arange(n), \n",
    "            np.sort(d), \n",
    "            s = 10,\n",
    "           edgecolors = 'darkslategrey',\n",
    "           facecolors='darkslategrey')\n",
    "ax1.set(xlabel = r'Node index $i$', \n",
    "        ylabel = r'Degree $d_i$',\n",
    "        title = '(a)')\n",
    "ax1.semilogy()\n",
    "\n",
    "ax = fig.add_subplot(122)\n",
    "\n",
    "err = (CL - w) / w\n",
    "\n",
    "err = degree_sort(err,d)\n",
    "err[np.isinf(err)] = 0\n",
    "err[np.isnan(err)] = 0\n",
    "\n",
    "im = ax.imshow(err, cmap = 'inferno', vmin = vmin, vmax = vmax)\n",
    "\n",
    "cbar_ax = fig.add_axes([0.95, 0.13, 0.02, 0.80])\n",
    "cbar = fig.colorbar(im, cax=cbar_ax, ticks=[vmin, vmin/2, 0, vmax/2, vmax])\n",
    "\n",
    "cbar.ax.set_yticklabels(['< ' + str(vmin), str(vmin/2), '0' , str(vmax/2), '> ' + str(vmax)])  # vertically oriented colorbar\n",
    "cbar_ax.set(title = r'$\\mathcal{E}$')\n",
    "\n",
    "ax.tick_params(\n",
    "    which='both',      # both major and minor ticks are affected\n",
    "    bottom=False,      # ticks along the bottom edge are off\n",
    "    top=False,         # ticks along the top edge are off\n",
    "    right=False,\n",
    "    left=False,\n",
    "    labelbottom=False,\n",
    "    labelleft=False,\n",
    "    length = 0)\n",
    "v = np.abs(err).mean()\n",
    "\n",
    "err_message = r\"$\\mathcal{E}(\\hat{\\omega}^0) = $\" + \"{:05.3F}\".format(v)\n",
    "\n",
    "ax.set(xlabel = err_message,\n",
    "       title = '(b)')\n",
    "\n",
    "plt.tight_layout()\n",
    "\n",
    "# plt.colorbar()\n",
    "plt.savefig('../../Downloads/synthetic.png', dpi=300, bbox_inches='tight')"
   ]
  },
  {
   "cell_type": "code",
   "execution_count": null,
   "metadata": {},
   "outputs": [],
   "source": [
    "A = adjacency_matrix(G)\n",
    "A = degree_sort(A, d)\n",
    "plt.imshow(np.log(A + 1))\n",
    "plt.colorbar()"
   ]
  },
  {
   "cell_type": "code",
   "execution_count": null,
   "metadata": {},
   "outputs": [],
   "source": [
    "vmin = 0\n",
    "vmax = 4\n",
    "plt.imshow(degree_sort(np.log(CL+1), d), vmin = vmin, vmax = vmax)"
   ]
  },
  {
   "cell_type": "code",
   "execution_count": null,
   "metadata": {},
   "outputs": [],
   "source": [
    "plt.imshow(degree_sort(np.log(w+1), d), vmin = vmin, vmax = vmax)"
   ]
  },
  {
   "cell_type": "code",
   "execution_count": null,
   "metadata": {},
   "outputs": [],
   "source": []
  }
 ],
 "metadata": {
  "kernelspec": {
   "display_name": "Python 3",
   "language": "python",
   "name": "python3"
  },
  "language_info": {
   "codemirror_mode": {
    "name": "ipython",
    "version": 3
   },
   "file_extension": ".py",
   "mimetype": "text/x-python",
   "name": "python",
   "nbconvert_exporter": "python",
   "pygments_lexer": "ipython3",
   "version": "3.5.2"
  }
 },
 "nbformat": 4,
 "nbformat_minor": 4
}
