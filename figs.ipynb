{
 "cells": [
  {
   "cell_type": "code",
   "execution_count": 99,
   "metadata": {},
   "outputs": [],
   "source": [
    "import numpy as np\n",
    "from matplotlib import pyplot as plt\n",
    "from hypergraph import hypergraph\n",
    "plt.style.use('dark_background')"
   ]
  },
  {
   "cell_type": "code",
   "execution_count": 100,
   "metadata": {},
   "outputs": [],
   "source": [
    "path = 'contact-high-school-proj-graph/contact-high-school-proj-graph.txt'\n",
    "\n",
    "def read_data(path):\n",
    "    L = [line.rstrip('\\n') for line in open(path)]\n",
    "    L = [f.split(' ') for f in L]\n",
    "    L = [(int(f[0]), int(f[1]), int(f[2])) for f in L]\n",
    "    C = [ [(f[0]-1, f[1]-1)]*f[2] for f in L]\n",
    "    C = [f for g in C for f in g]\n",
    "    G = hypergraph.hypergraph(C)\n",
    "    print('G has ' + str(G.n) + ' nodes and ' + str(G.m) + ' edges.')\n",
    "    return(G)\n",
    "\n",
    "def density(G):\n",
    "    return(2*G.m / (G.n*(G.n-1)))"
   ]
  },
  {
   "cell_type": "code",
   "execution_count": 101,
   "metadata": {},
   "outputs": [
    {
     "name": "stdout",
     "output_type": "stream",
     "text": [
      "G has 327 nodes and 189928 edges.\n"
     ]
    },
    {
     "data": {
      "text/plain": [
       "3.563310256843211"
      ]
     },
     "execution_count": 101,
     "metadata": {},
     "output_type": "execute_result"
    }
   ],
   "source": [
    "G = read_data(path)\n",
    "density(G)"
   ]
  },
  {
   "cell_type": "code",
   "execution_count": 107,
   "metadata": {},
   "outputs": [
    {
     "name": "stdout",
     "output_type": "stream",
     "text": [
      "100000 steps completed.\n"
     ]
    }
   ],
   "source": [
    "G.MH(label = 'stub', n_steps = 100000)"
   ]
  },
  {
   "cell_type": "code",
   "execution_count": 109,
   "metadata": {},
   "outputs": [
    {
     "name": "stdout",
     "output_type": "stream",
     "text": [
      "9 epochs completed, 1016 steps taken, 27327 steps rejected.\n"
     ]
    }
   ],
   "source": [
    "G.MH(label = 'vertex', n_steps = 1000, n_clash=1)"
   ]
  },
  {
   "cell_type": "code",
   "execution_count": 110,
   "metadata": {},
   "outputs": [
    {
     "data": {
      "text/plain": [
       "Text(0, 0.5, 'density')"
      ]
     },
     "execution_count": 110,
     "metadata": {},
     "output_type": "execute_result"
    },
    {
     "data": {
      "image/png": "[encoded data removed]",
      "text/plain": [
       "<Figure size 432x288 with 1 Axes>"
      ]
     },
     "metadata": {},
     "output_type": "display_data"
    }
   ],
   "source": [
    "histogram = plt.hist(G.node_degrees(), bins = 30)\n",
    "plt.xlabel('degree')\n",
    "plt.ylabel('density')"
   ]
  }
 ],
 "metadata": {
  "kernelspec": {
   "display_name": "Python 3",
   "language": "python",
   "name": "python3"
  },
  "language_info": {
   "codemirror_mode": {
    "name": "ipython",
    "version": 3
   },
   "file_extension": ".py",
   "mimetype": "text/x-python",
   "name": "python",
   "nbconvert_exporter": "python",
   "pygments_lexer": "ipython3",
   "version": "3.5.2"
  }
 },
 "nbformat": 4,
 "nbformat_minor": 4
}
