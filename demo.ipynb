{
 "cells": [
  {
   "cell_type": "markdown",
   "metadata": {},
   "source": [
    "# Demo\n",
    "\n",
    "In this notebook, we'll give a simple demonstration of how to compute the estimated mean adjacency matrix for a dense multigraph, and evaluate the fit. In addition to the standard packages and files in this repository, you'll also need to place `hypergraph.py` (available [here](https://github.com/PhilChodrow/hypergraph)) in the `scripts` directory. Running this notebook can take a few minutes depending on your hardware. \n",
    "\n",
    "The code corresponding to the core mathematical contribution of the paper is contained in the functions `opt.compute_b()` and `opt.W_from_b()`. All that's needed to use these functions is a degree sequence. Everything else in this notebook is about generating the degree sequence and evaluating the fit. "
   ]
  },
  {
   "cell_type": "code",
   "execution_count": 1,
   "metadata": {},
   "outputs": [],
   "source": [
    "import networkx as nx\n",
    "import numpy as np\n",
    "from scripts import hypergraph, opt\n",
    "from scripts.utils import experiment, degree_sort, adjacency_matrix\n",
    "from matplotlib import pyplot as plt"
   ]
  },
  {
   "cell_type": "markdown",
   "metadata": {},
   "source": [
    "# Construct Synthetic Data"
   ]
  },
  {
   "cell_type": "code",
   "execution_count": 2,
   "metadata": {},
   "outputs": [
    {
     "name": "stdout",
     "output_type": "stream",
     "text": [
      "28 degeneracies removed, 0 remain.\n"
     ]
    },
    {
     "data": {
      "text/plain": [
       "Text(0.5, 1.0, 'Degree Sequence')"
      ]
     },
     "execution_count": 2,
     "metadata": {},
     "output_type": "execute_result"
    },
    {
     "data": {
      "image/png": "[encoded data removed]",
      "text/plain": [
       "<Figure size 432x288 with 1 Axes>"
      ]
     },
     "metadata": {
      "needs_background": "light"
     },
     "output_type": "display_data"
    }
   ],
   "source": [
    "# construct a degree sequence\n",
    "\n",
    "n = 50  # number of nodes\n",
    "\n",
    "deg = (np.random.rand(n)*3)**5\n",
    "deg += np.random.randint(1, n/2, n)\n",
    "deg = deg / 4\n",
    "deg = deg.astype(int) + 1\n",
    "deg = deg * 2\n",
    "\n",
    "# use nx.configuration model to make a multigraph, then represent as hypergraph\n",
    "g = nx.configuration_model(deg)\n",
    "e = list(g.edges())\n",
    "\n",
    "G = hypergraph.hypergraph(e)\n",
    "G.remove_degeneracy()        # remove self-loops\n",
    "d = G.node_degrees()\n",
    "\n",
    "plt.scatter(np.arange(n), np.sort(d))\n",
    "plt.title('Degree Sequence')"
   ]
  },
  {
   "cell_type": "markdown",
   "metadata": {},
   "source": [
    "# Compute Two Estimators\n",
    "\n",
    "Next we'll compute the CL estimator \n",
    "\n",
    "$$ \\hat{\\omega}^0_{ij} = \\frac{d_id_j}{\\sum_\\ell d_\\ell}$$\n",
    "\n",
    "and the estimator from the text: \n",
    "\n",
    "$$ \\hat{\\omega}^1_{ij} = \\frac{\\hat{\\chi}_{ij}}{1 - \\hat{\\chi}_{ij}}\\;,$$\n",
    "\n",
    "where \n",
    "\n",
    "$$\\hat{\\chi}_{ij} = \\frac{\\hat{\\beta}_i \\hat{\\beta}_j}{\\sum_\\ell \\hat{\\beta}_\\ell}$$"
   ]
  },
  {
   "cell_type": "code",
   "execution_count": 3,
   "metadata": {},
   "outputs": [],
   "source": [
    "# Chung-Lu Estimator\n",
    "\n",
    "w0 = np.outer(d, d)/d.sum()\n",
    "np.fill_diagonal(w0, 0)"
   ]
  },
  {
   "cell_type": "code",
   "execution_count": 4,
   "metadata": {},
   "outputs": [
    {
     "name": "stdout",
     "output_type": "stream",
     "text": [
      "round 0, current error = 1559.4\n",
      "round 1, current error = 25.8558\n",
      "round 2, current error = 1.5986\n",
      "round 3, current error = 0.0346\n",
      "round 4, current error = 0.0169\n"
     ]
    }
   ],
   "source": [
    "# Our estimator\n",
    "\n",
    "b = opt.compute_b(d)\n",
    "w1 = opt.W_from_b(b)"
   ]
  },
  {
   "cell_type": "code",
   "execution_count": 5,
   "metadata": {},
   "outputs": [
    {
     "data": {
      "image/png": "[encoded data removed]",
      "text/plain": [
       "<Figure size 432x288 with 1 Axes>"
      ]
     },
     "metadata": {
      "needs_background": "light"
     },
     "output_type": "display_data"
    }
   ],
   "source": [
    "# b vs. d\n",
    "\n",
    "plt.scatter(d, b)\n",
    "plt.xlabel(r'$d$')\n",
    "labs = plt.ylabel(r'$\\hat{\\beta}$')\n",
    "t = plt.title('Estimated Collapsed Degree Sequence')"
   ]
  },
  {
   "cell_type": "markdown",
   "metadata": {},
   "source": [
    "# Run Experiment\n",
    "\n",
    "Next we compare these estimators against an unbiased approximation of the ground truth, $\\hat{\\omega}^{\\text{MC}}$. Computing this estimator can take some time. "
   ]
  },
  {
   "cell_type": "code",
   "execution_count": 6,
   "metadata": {},
   "outputs": [
    {
     "name": "stdout",
     "output_type": "stream",
     "text": [
      "Completed stub-labeled MCMC with 0 steps.\n",
      "Round 0 of 1500 completed, 0 steps taken, acceptance rate = 0.1942\n"
     ]
    }
   ],
   "source": [
    "n_steps = round(G.m*np.log(G.m))\n",
    "w, x, w2 = experiment(G, n_stub = 0, \n",
    "                      n_vertex = n_steps/10, \n",
    "                      n_rounds = 1000, \n",
    "                      sample_after = 500, \n",
    "                      message_every = 10000)"
   ]
  },
  {
   "cell_type": "markdown",
   "metadata": {},
   "source": [
    "Now we'll compute and visualize the relative errors of each approximation. "
   ]
  },
  {
   "cell_type": "code",
   "execution_count": 7,
   "metadata": {},
   "outputs": [],
   "source": [
    "def rel_err(w, w_hat):\n",
    "    err = (w_hat - w)/w \n",
    "    err[np.isinf(err)] = np.nan\n",
    "    return(err)\n",
    "    \n",
    "def MARE(w, w_hat):\n",
    "    return(np.nanmean(np.abs(rel_err(w, w_hat))))"
   ]
  },
  {
   "cell_type": "code",
   "execution_count": 8,
   "metadata": {},
   "outputs": [
    {
     "name": "stdout",
     "output_type": "stream",
     "text": [
      "The MARE of the CL estimator is 0.343.\n",
      "The MARE of the new estimator is 0.11.\n"
     ]
    },
    {
     "name": "stderr",
     "output_type": "stream",
     "text": [
      "/home/phil/.local/lib/python3.5/site-packages/ipykernel_launcher.py:2: RuntimeWarning: invalid value encountered in true_divide\n",
      "  \n"
     ]
    }
   ],
   "source": [
    "print('The MARE of the CL estimator is ' + str(round(MARE(w, w0), 3)) + '.')\n",
    "print('The MARE of the new estimator is ' + str(round(MARE(w, w1), 3)) + '.')"
   ]
  },
  {
   "cell_type": "markdown",
   "metadata": {},
   "source": [
    "It's useful to look at these matrices in order to see where the estimates diverge. "
   ]
  },
  {
   "cell_type": "code",
   "execution_count": 12,
   "metadata": {},
   "outputs": [
    {
     "name": "stderr",
     "output_type": "stream",
     "text": [
      "/home/phil/.local/lib/python3.5/site-packages/ipykernel_launcher.py:2: RuntimeWarning: invalid value encountered in true_divide\n",
      "  \n"
     ]
    },
    {
     "data": {
      "image/png": "[encoded data removed]",
      "text/plain": [
       "<Figure size 504x216 with 3 Axes>"
      ]
     },
     "metadata": {
      "needs_background": "light"
     },
     "output_type": "display_data"
    }
   ],
   "source": [
    "def rel_err_plot(w, w_hat, ax, vmin = -1, vmax = 1):\n",
    "    err = rel_err(w, w_hat)\n",
    "    err = degree_sort(err, d)\n",
    "    np.fill_diagonal(err, 0)\n",
    "    im = ax.imshow(err, cmap = 'inferno', vmin = vmin, vmax = vmax)\n",
    "    \n",
    "    ax.tick_params(\n",
    "        which='both',      \n",
    "        bottom=False,      \n",
    "        top=False,         \n",
    "        right=False,\n",
    "        left=False,\n",
    "        labelbottom=False,\n",
    "        labelleft=False,\n",
    "        length = 0)\n",
    "    \n",
    "    v = MARE(w, w_hat)\n",
    "    err_message = r\"$\\mathcal{E} = $\" + \"{:05.3F}\".format(v)\n",
    "    \n",
    "    ax.set(xlabel = err_message)\n",
    "    \n",
    "    return(im)\n",
    "\n",
    "\n",
    "vmin = -1\n",
    "vmax = 1\n",
    "\n",
    "fig = plt.figure(figsize = (7, 3))\n",
    "ax1 = fig.add_subplot(121)\n",
    "ax2 = fig.add_subplot(122)\n",
    "im1 = rel_err_plot(w, w0, ax1, vmin, vmax)\n",
    "im2 = rel_err_plot(w, w1, ax2, vmin, vmax)\n",
    "\n",
    "cbar_ax = fig.add_axes([0.95, 0.13, 0.02, 0.80])\n",
    "cbar = fig.colorbar(im1, cax=cbar_ax, ticks=[vmin, vmin/2, 0, vmax/2, vmax])\n",
    "\n",
    "ax1.set(title = r'$\\hat{\\omega}^0$')\n",
    "ax2.set(title = r'$\\hat{\\omega}^1$')\n",
    "\n",
    "cbar.ax.set_yticklabels(['< ' + str(vmin), str(vmin/2), '0' , str(vmax/2), '> ' + str(vmax)])  # vertically oriented colorbar\n",
    "t = cbar_ax.set(title = r'$\\mathcal{E}$')"
   ]
  },
  {
   "cell_type": "markdown",
   "metadata": {},
   "source": [
    "The error in $\\hat{\\omega}^0$ is due in large part to estimation bias -- connections between nodes of similar degree are underestimated and connections between nodes of very different degrees are overestimated. In contrast, the error in $\\hat{\\omega}^1$ does not appear to display any systematic bias and is mostly due to noise in the simulation estimator. In the manuscript, a longer-running simulation reduces the error to around 2%. "
   ]
  }
 ],
 "metadata": {
  "kernelspec": {
   "display_name": "Python 3",
   "language": "python",
   "name": "python3"
  },
  "language_info": {
   "codemirror_mode": {
    "name": "ipython",
    "version": 3
   },
   "file_extension": ".py",
   "mimetype": "text/x-python",
   "name": "python",
   "nbconvert_exporter": "python",
   "pygments_lexer": "ipython3",
   "version": "3.5.2"
  }
 },
 "nbformat": 4,
 "nbformat_minor": 4
}
