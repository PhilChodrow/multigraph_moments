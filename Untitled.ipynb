{
 "cells": [
  {
   "cell_type": "code",
   "execution_count": 172,
   "metadata": {},
   "outputs": [
    {
     "data": {
      "text/plain": [
       "'3.5.2 (default, Oct  8 2019, 13:06:37) \\n[GCC 5.4.0 20160609]'"
      ]
     },
     "execution_count": 172,
     "metadata": {},
     "output_type": "execute_result"
    }
   ],
   "source": [
    "import numpy as np\n",
    "from matplotlib import pyplot as plt\n",
    "from py import opt, read\n",
    "from hypergraph import hypergraph\n",
    "from py.utils import *\n",
    "import pathlib\n",
    "import networkx as nx\n",
    "from scipy.optimize import root, approx_fprime\n",
    "from cProfile import run\n",
    "\n",
    "from scipy.linalg import eig\n",
    "\n",
    "\n",
    "from scipy.stats import zipf\n",
    "%matplotlib inline\n",
    "\n",
    "import sys\n",
    "sys.version"
   ]
  },
  {
   "cell_type": "code",
   "execution_count": 173,
   "metadata": {},
   "outputs": [],
   "source": [
    "def analytic_jacobian(b):\n",
    "    n = len(b)\n",
    "    X = opt.X_from_b(b)\n",
    "    A = X / (1-X)**2\n",
    "    y = b.sum()/2\n",
    "    \n",
    "    B_inv = np.diag(1 / b)\n",
    "    E = np.ones((n,n))\n",
    "    \n",
    "    D = np.diag(A.sum(axis = 0))\n",
    "    \n",
    "    J = B_inv.dot(A) - 1/(2*y)*A.dot(E) + B_inv.dot(D)\n",
    "    \n",
    "    return(J, A)\n",
    "    "
   ]
  },
  {
   "cell_type": "code",
   "execution_count": 174,
   "metadata": {},
   "outputs": [],
   "source": [
    "# J_n = jacobian(opt.W_from_b)\n",
    "def numerical_jacobian(b):\n",
    "    n = len(b)\n",
    "    J = np.zeros((n,n))\n",
    "    for i in range(n):\n",
    "        J[i] = approx_fprime(b, \n",
    "                             f = lambda b: opt.W_from_b(b).sum(axis = 1)[i], \n",
    "                             epsilon = .0000001)\n",
    "\n",
    "    return(J)"
   ]
  },
  {
   "cell_type": "markdown",
   "metadata": {},
   "source": [
    "# TEST"
   ]
  },
  {
   "cell_type": "code",
   "execution_count": 175,
   "metadata": {},
   "outputs": [],
   "source": [
    "n = 100\n",
    "\n",
    "alpha = 5\n",
    "\n",
    "b = (np.random.rand(n) + 1)**alpha\n",
    "while not opt.check_feasible(b):\n",
    "    b = (np.random.rand(n) + 1)**alpha\n",
    "b = np.sort(b)\n",
    "J_n = numerical_jacobian(b)"
   ]
  },
  {
   "cell_type": "code",
   "execution_count": 176,
   "metadata": {},
   "outputs": [
    {
     "data": {
      "text/plain": [
       "0.00029920257351610005"
      ]
     },
     "execution_count": 176,
     "metadata": {},
     "output_type": "execute_result"
    }
   ],
   "source": [
    "J,A = analytic_jacobian(b)\n",
    "\n",
    "((J - J_n)**2).mean()"
   ]
  },
  {
   "cell_type": "code",
   "execution_count": null,
   "metadata": {},
   "outputs": [
    {
     "name": "stdout",
     "output_type": "stream",
     "text": [
      "ooof\n"
     ]
    }
   ],
   "source": [
    "alpha = 5\n",
    "\n",
    "for i in range(1000):\n",
    "    b = (np.random.rand(n) + 1)**alpha\n",
    "    while not opt.check_feasible(b):\n",
    "        b = (np.random.rand(n) + 1)**alpha\n",
    "    J, A = analytic_jacobian(b)\n",
    "    if np.min(np.abs(eig(J)[0])) < .1:\n",
    "        print('ooof')\n"
   ]
  },
  {
   "cell_type": "code",
   "execution_count": 198,
   "metadata": {},
   "outputs": [],
   "source": [
    "v = eig(J_)[1][eig(J_)[0] < 0]"
   ]
  },
  {
   "cell_type": "code",
   "execution_count": 210,
   "metadata": {},
   "outputs": [
    {
     "data": {
      "text/plain": [
       "0.5126569585488686"
      ]
     },
     "execution_count": 210,
     "metadata": {},
     "output_type": "execute_result"
    }
   ],
   "source": [
    "np.abs(eig(J_)[0]).min()"
   ]
  },
  {
   "cell_type": "code",
   "execution_count": 169,
   "metadata": {},
   "outputs": [
    {
     "data": {
      "text/plain": [
       "<matplotlib.image.AxesImage at 0x7f60a18f7c50>"
      ]
     },
     "execution_count": 169,
     "metadata": {},
     "output_type": "execute_result"
    },
    {
     "data": {
      "image/png": "[encoded data removed]",
      "text/plain": [
       "<Figure size 432x288 with 1 Axes>"
      ]
     },
     "metadata": {
      "needs_background": "light"
     },
     "output_type": "display_data"
    }
   ],
   "source": [
    "plt.imshow(J)"
   ]
  },
  {
   "cell_type": "code",
   "execution_count": 171,
   "metadata": {},
   "outputs": [
    {
     "data": {
      "text/plain": [
       "True"
      ]
     },
     "execution_count": 171,
     "metadata": {},
     "output_type": "execute_result"
    }
   ],
   "source": [
    "np.all(eig(J)[0] > 0) # test for positive-definite"
   ]
  },
  {
   "cell_type": "code",
   "execution_count": 161,
   "metadata": {},
   "outputs": [],
   "source": [
    "B_inv = np.diag(1/b)\n",
    "y = 2*b.sum()\n",
    "D = np.diag(A.sum(axis = 0))\n",
    "\n",
    "\n",
    "V = B_inv.dot(A + D)"
   ]
  },
  {
   "cell_type": "code",
   "execution_count": 162,
   "metadata": {},
   "outputs": [
    {
     "data": {
      "text/plain": [
       "True"
      ]
     },
     "execution_count": 162,
     "metadata": {},
     "output_type": "execute_result"
    }
   ],
   "source": [
    "n = 100\n",
    "\n",
    "alpha = 5\n",
    "\n",
    "b = (np.random.rand(n) + 1)**alpha\n",
    "np.all(eig(V)[0] > 0)"
   ]
  },
  {
   "cell_type": "code",
   "execution_count": 163,
   "metadata": {},
   "outputs": [
    {
     "data": {
      "text/plain": [
       "(0.04521944703223176+0j)"
      ]
     },
     "execution_count": 163,
     "metadata": {},
     "output_type": "execute_result"
    }
   ],
   "source": [
    "eig(V)[0].min()"
   ]
  },
  {
   "cell_type": "code",
   "execution_count": 164,
   "metadata": {},
   "outputs": [],
   "source": [
    "U = 1/(2*y) * A.dot(np.ones((n,n)))"
   ]
  },
  {
   "cell_type": "code",
   "execution_count": 165,
   "metadata": {},
   "outputs": [
    {
     "data": {
      "text/plain": [
       "(1.0260360355199571+0j)"
      ]
     },
     "execution_count": 165,
     "metadata": {},
     "output_type": "execute_result"
    }
   ],
   "source": [
    "eig(U)[0].max()"
   ]
  },
  {
   "cell_type": "code",
   "execution_count": 166,
   "metadata": {},
   "outputs": [
    {
     "data": {
      "text/plain": [
       "array([[ 1.03406521e+00, -7.03374931e-06,  2.36916019e-05, ...,\n",
       "         2.68044376e-02,  2.71738308e-02,  2.71944694e-02],\n",
       "       [-5.28570106e-05,  1.03494731e+00,  5.14623367e-08, ...,\n",
       "         2.68202712e-02,  2.71907109e-02,  2.72114083e-02],\n",
       "       [-8.56797806e-05, -6.34967444e-05,  1.03617164e+00, ...,\n",
       "         2.68422760e-02,  2.72141708e-02,  2.72349500e-02],\n",
       "       ...,\n",
       "       [-2.20597417e-01, -2.20572684e-01, -2.20538308e-01, ...,\n",
       "         8.23189111e+00,  7.14926936e-01,  7.22044053e-01],\n",
       "       [-2.38195693e-01, -2.38170925e-01, -2.38136499e-01, ...,\n",
       "         6.85674445e-01,  8.77229969e+00,  8.34480317e-01],\n",
       "       [-2.39206817e-01, -2.39182047e-01, -2.39147618e-01, ...,\n",
       "         6.91044880e-01,  8.32723769e-01,  8.80311053e+00]])"
      ]
     },
     "execution_count": 166,
     "metadata": {},
     "output_type": "execute_result"
    }
   ],
   "source": [
    "J"
   ]
  },
  {
   "cell_type": "code",
   "execution_count": null,
   "metadata": {},
   "outputs": [],
   "source": []
  }
 ],
 "metadata": {
  "kernelspec": {
   "display_name": "bayesmod",
   "language": "python",
   "name": "bayesmod"
  },
  "language_info": {
   "codemirror_mode": {
    "name": "ipython",
    "version": 3
   },
   "file_extension": ".py",
   "mimetype": "text/x-python",
   "name": "python",
   "nbconvert_exporter": "python",
   "pygments_lexer": "ipython3",
   "version": "3.5.2"
  }
 },
 "nbformat": 4,
 "nbformat_minor": 2
}
